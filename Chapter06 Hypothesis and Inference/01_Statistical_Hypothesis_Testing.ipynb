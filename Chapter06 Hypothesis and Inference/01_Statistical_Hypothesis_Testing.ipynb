{
 "cells": [
  {
   "cell_type": "code",
   "execution_count": 26,
   "id": "9157ed0b-3b79-4d8c-9e4b-92a83ebd6199",
   "metadata": {},
   "outputs": [],
   "source": [
    "import math\n",
    "import random"
   ]
  },
  {
   "cell_type": "code",
   "execution_count": 27,
   "id": "82afc939-c3a4-4d81-bab1-e1b19bc0d08c",
   "metadata": {},
   "outputs": [],
   "source": [
    "def normal_cdf(x, mu=0,sigma=1):\n",
    "    return (1 + math.erf((x - mu) / math.sqrt(2) / sigma)) / 2\n",
    "\n",
    "def inverse_normal_cdf(p, mu=0, sigma=1, tolerance=0.00001):\n",
    "    \"\"\"find approximate inverse using binary search\"\"\"\n",
    "    # if not standard, compute standard and rescale\n",
    "    if mu != 0 or sigma != 1:\n",
    "        return mu + sigma * inverse_normal_cdf(p, tolerance=tolerance)\n",
    "    low_z, low_p = -10.0, 0 # normal_cdf(-10) is (very close to) 0\n",
    "    hi_z, hi_p = 10.0, 1 # normal_cdf(10) is (very close to) 1\n",
    "    while hi_z - low_z > tolerance:\n",
    "        mid_z = (low_z + hi_z) / 2 # consider the midpoint\n",
    "        mid_p = normal_cdf(mid_z) # and the cdf's value there\n",
    "        if mid_p < p:\n",
    "        # midpoint is still too low, search above it\n",
    "            low_z, low_p = mid_z, mid_p\n",
    "        elif mid_p > p:\n",
    "        # midpoint is still too high, search below it\n",
    "            hi_z, hi_p = mid_z, mid_p\n",
    "        else:\n",
    "            break\n",
    "    return mid_z\n",
    "    "
   ]
  },
  {
   "cell_type": "code",
   "execution_count": 28,
   "id": "635774fd-51f1-40b8-ac25-96fcf1b6cdde",
   "metadata": {},
   "outputs": [
    {
     "name": "stdout",
     "output_type": "stream",
     "text": [
      "normal_approximation_to_binomial\n",
      "mu_0      = 500.0\n",
      "sigma_0   = 15.811388300841896\n",
      " \n",
      "normal_two_sided_bounds\n",
      "s_1       =  469.01026640487555\n",
      "s_2       =  530.9897335951244\n"
     ]
    }
   ],
   "source": [
    "def normal_approximation_to_binomial(n, p):\n",
    "    \"\"\"finds mu and sigma corresponding to a Binomial(n, p)\"\"\"\n",
    "    mu = p * n\n",
    "    sigma = math.sqrt(p * (1 - p) * n)\n",
    "    return mu, sigma\n",
    "\n",
    "# the normal cdf _is_ the probability the variable is below a threshold\n",
    "normal_probability_below = normal_cdf\n",
    "\n",
    "# it's above the threshold if it's not below the threshold\n",
    "def normal_probability_above(lo, mu=0, sigma=1):\n",
    "    return 1 - normal_cdf(lo, mu, sigma)\n",
    "\n",
    "# it's between if it's less than hi, but not less than lo\n",
    "def normal_probability_between(lo, hi, mu=0, sigma=1):\n",
    "    return normal_cdf(hi, mu, sigma) - normal_cdf(lo, mu, sigma)\n",
    "\n",
    "# it's outside if it's not between\n",
    "def normal_probability_outside(lo, hi, mu=0, sigma=1):\n",
    "    return 1 - normal_probability_between(lo, hi, mu, sigma)\n",
    "\n",
    "def normal_upper_bound(probability, mu=0, sigma=1): \n",
    "    \"\"\"returns the z for which P(Z <= z) = probability\"\"\" \n",
    "    return inverse_normal_cdf(probability, mu, sigma)\n",
    "def normal_lower_bound(probability, mu=0, sigma=1): \n",
    "    \"\"\"returns the z for which P(Z >= z) = probability\"\"\" \n",
    "    return inverse_normal_cdf(1 - probability, mu, sigma)\n",
    "def normal_two_sided_bounds(probability, mu=0, sigma=1): \n",
    "    \"\"\"returns the symmetric (about the mean) bounds that contain the specified probability\"\"\" \n",
    "    tail_probability = (1 - probability) / 2\n",
    "    \n",
    "    # upper bound should have tail_probability above it\n",
    "    upper_bound = normal_lower_bound(tail_probability, mu, sigma) \n",
    "    # lower bound should have tail_probability below it\n",
    "    lower_bound = normal_upper_bound(tail_probability, mu, sigma) \n",
    "    return lower_bound, upper_bound\n",
    "\n",
    "mu_0, sigma_0 = normal_approximation_to_binomial(1000, 0.5)\n",
    "print (\"normal_approximation_to_binomial\")\n",
    "print (\"mu_0      =\",mu_0)\n",
    "print (\"sigma_0   =\",sigma_0)\n",
    "print (\" \")\n",
    "s_1, s_2 = normal_two_sided_bounds(0.95, mu_0, sigma_0) # (469, 531)\n",
    "print (\"normal_two_sided_bounds\")\n",
    "print (\"s_1       = \",s_1)\n",
    "print (\"s_2       = \",s_2)"
   ]
  },
  {
   "cell_type": "code",
   "execution_count": 29,
   "id": "ec69bfdb-947e-44e4-8a4d-ece2956dbfa3",
   "metadata": {},
   "outputs": [
    {
     "name": "stdout",
     "output_type": "stream",
     "text": [
      "lo        =  469.01026640487555\n",
      "hi        =  530.9897335951244\n",
      "\n",
      "mu_1      =  550.0\n",
      "sigma_1   =  15.732132722552274\n",
      "\n",
      "type_2_probability   =  0.11345199870463285\n",
      "power                =  0.8865480012953671\n"
     ]
    }
   ],
   "source": [
    "#95% bounds based on assumption p is 0.5\n",
    "lo, hi = normal_two_sided_bounds(0.95, mu_0, sigma_0)\n",
    "print (\"lo        = \",lo)\n",
    "print (\"hi        = \",hi)\n",
    "# actual mu and sigma based on p = 0.55\n",
    "print (\"\")\n",
    "mu_1, sigma_1 = normal_approximation_to_binomial(1000, 0.55)\n",
    "print (\"mu_1      = \",mu_1)\n",
    "print (\"sigma_1   = \",sigma_1)\n",
    "print (\"\")\n",
    "# a type 2 error means we fail to reject the null hypothesis\n",
    "# which will happen when X is still in our original interval\n",
    "type_2_probability = normal_probability_between(lo, hi, mu_1, sigma_1)\n",
    "print (\"type_2_probability   = \",type_2_probability)\n",
    "power = 1 - type_2_probability # 0.887\n",
    "print (\"power                = \",power)"
   ]
  },
  {
   "cell_type": "code",
   "execution_count": 30,
   "id": "bbacbdbf-b399-4f4a-9e26-e033d8497e73",
   "metadata": {},
   "outputs": [
    {
     "name": "stdout",
     "output_type": "stream",
     "text": [
      "hi        =  526.0073585242053\n",
      "type_2_probability   =  0.06362051966928273\n",
      "power                =  0.9363794803307173\n"
     ]
    }
   ],
   "source": [
    "hi = normal_upper_bound(0.95, mu_0, sigma_0)\n",
    "# is 526 (< 531, since we need more probability in the upper tail)\n",
    "print (\"hi        = \",hi) \n",
    "type_2_probability = normal_probability_below(hi, mu_1, sigma_1)\n",
    "print (\"type_2_probability   = \",type_2_probability)\n",
    "power = 1 - type_2_probability # 0.936\n",
    "print (\"power                = \",power)"
   ]
  },
  {
   "cell_type": "code",
   "execution_count": 31,
   "id": "06ea2958-0ded-49cd-b65d-86238ae0b971",
   "metadata": {},
   "outputs": [
    {
     "name": "stdout",
     "output_type": "stream",
     "text": [
      "two_sided_p_value   =  0.06207721579598835\n"
     ]
    }
   ],
   "source": [
    "def two_sided_p_value(x, mu=0, sigma=1):\n",
    "    if x >= mu:\n",
    "        # if x is greater than the mean, the tail is what's greater than x\n",
    "        return 2 * normal_probability_above(x, mu, sigma)\n",
    "    else:\n",
    "        # if x is less than the mean, the tail is what's less than x\n",
    "        return 2 * normal_probability_below(x, mu, sigma)\n",
    "\n",
    "values = two_sided_p_value(529.5, mu_0, sigma_0) # 0.062\n",
    "print (\"two_sided_p_value   = \",values)"
   ]
  },
  {
   "cell_type": "code",
   "execution_count": 40,
   "id": "85d2ea99-e73d-4fba-b2fb-bf525884faa1",
   "metadata": {},
   "outputs": [
    {
     "name": "stdout",
     "output_type": "stream",
     "text": [
      "extreme_value_count 6137\n",
      "0.06137\n"
     ]
    }
   ],
   "source": [
    "extreme_value_count = 0\n",
    "for _ in range(100000):\n",
    "    num_heads = sum(1 if random.random() < 0.5 else 0 # count # of heads\n",
    "                    for _ in range(1000)) # in 1000 flips\n",
    "    if num_heads >= 530 or num_heads <= 470 : # and count how often\n",
    "        extreme_value_count += 1 # the # is 'extreme'\n",
    "print (\"extreme_value_count\" , extreme_value_count)    \n",
    "print (extreme_value_count / 100000) # 0.062\n",
    " \n",
    "\n"
   ]
  },
  {
   "cell_type": "code",
   "execution_count": 41,
   "id": "b5699ed6-08a2-4b49-aff1-7e55467010e6",
   "metadata": {},
   "outputs": [
    {
     "name": "stdout",
     "output_type": "stream",
     "text": [
      "two_sided_p_value    = 0.046345287837786575\n",
      "\n",
      "upper_p_value    = <function normal_probability_above at 0x10b3ab2e0>\n",
      "lower_p_value    = <function normal_cdf at 0x10b481ee0>\n",
      "\n",
      "upper_p_value    = 0.06062885772582072\n",
      "\n",
      "upper_p_value    = 0.04686839508859242\n"
     ]
    }
   ],
   "source": [
    "value = two_sided_p_value(531.5, mu_0, sigma_0) # 0.0463\n",
    "print(\"two_sided_p_value    =\", value)\n",
    "print(\"\")\n",
    " \n",
    "upper_p_value = normal_probability_above\n",
    "lower_p_value = normal_probability_below \n",
    "print(\"upper_p_value    =\", upper_p_value)\n",
    "print(\"lower_p_value    =\", lower_p_value)\n",
    "print(\"\")\n",
    "\n",
    "value = upper_p_value(524.5, mu_0, sigma_0) # 0.061\n",
    "print(\"upper_p_value    =\", value)\n",
    "print(\"\")\n",
    "\n",
    "value = upper_p_value(526.5, mu_0, sigma_0) # 0.047\n",
    "print(\"upper_p_value    =\", value)\n",
    "\n"
   ]
  },
  {
   "cell_type": "code",
   "execution_count": null,
   "id": "a424b912-f985-4e25-855e-81e8bb626d56",
   "metadata": {},
   "outputs": [],
   "source": []
  }
 ],
 "metadata": {
  "kernelspec": {
   "display_name": "Python 3 (ipykernel)",
   "language": "python",
   "name": "python3"
  },
  "language_info": {
   "codemirror_mode": {
    "name": "ipython",
    "version": 3
   },
   "file_extension": ".py",
   "mimetype": "text/x-python",
   "name": "python",
   "nbconvert_exporter": "python",
   "pygments_lexer": "ipython3",
   "version": "3.11.6"
  }
 },
 "nbformat": 4,
 "nbformat_minor": 5
}
