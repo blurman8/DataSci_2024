{
 "cells": [
  {
   "cell_type": "code",
   "execution_count": 2,
   "id": "ef14b39d-12b9-4378-b77b-4fe736e28bff",
   "metadata": {},
   "outputs": [],
   "source": [
    "import math"
   ]
  },
  {
   "cell_type": "code",
   "execution_count": 16,
   "id": "a12d31f0-4a13-4e83-9426-d537bc201df6",
   "metadata": {},
   "outputs": [],
   "source": [
    "def normal_upper_bound(probability, mu=0, sigma=1): \n",
    "    \"\"\"returns the z for which P(Z <= z) = probability\"\"\" \n",
    "    return inverse_normal_cdf(probability, mu, sigma)\n",
    "def normal_lower_bound(probability, mu=0, sigma=1): \n",
    "    \"\"\"returns the z for which P(Z >= z) = probability\"\"\" \n",
    "    return inverse_normal_cdf(1 - probability, mu, sigma)\n",
    "\n",
    "def normal_cdf(x, mu=0,sigma=1):\n",
    "    return (1 + math.erf((x - mu) / math.sqrt(2) / sigma)) / 2\n",
    "\n",
    "def normal_probability_below(lo, mu=0, sigma=1): \n",
    "    return normal_cdf(lo, mu, sigma)\n",
    "def normal_probability_above(lo, mu=0, sigma=1): \n",
    "    return 1 - normal_cdf(lo, mu, sigma)\n",
    " \n",
    "def two_sided_p_value(x, mu=0, sigma=1): \n",
    "    if x >= mu:\n",
    "        # if x is greater than the mean, the tail is what's greater than x\n",
    "        return 2 * normal_probability_above(x, mu, sigma) \n",
    "    else:\n",
    "        # if x is less than the mean, the tail is what's less than x\n",
    "        return 2 * normal_probability_below(x, mu, sigma)"
   ]
  },
  {
   "cell_type": "code",
   "execution_count": 21,
   "id": "3f3ff1c8-53cb-45e8-880f-070c427e287b",
   "metadata": {},
   "outputs": [
    {
     "name": "stdout",
     "output_type": "stream",
     "text": [
      "a_b_test_statistic  : -1.1403464899034472\n",
      "two_sided_p_value  : 0.254141976542236\n",
      "\n",
      "a_b_test_statistic  : -2.948839123097944\n",
      "two_sided_p_value  : 0.003189699706216853\n"
     ]
    }
   ],
   "source": [
    "def estimated_parameters(N, n):\n",
    "    p = n / N\n",
    "    sigma = math.sqrt(p * (1 - p) / N)\n",
    "    return p, sigma\n",
    "\n",
    "\n",
    "def a_b_test_statistic(N_A, n_A, N_B, n_B):\n",
    "    p_A, sigma_A = estimated_parameters(N_A, n_A)\n",
    "    p_B, sigma_B = estimated_parameters(N_B, n_B)\n",
    "    return (p_B - p_A) / math.sqrt(sigma_A ** 2 + sigma_B ** 2)\n",
    "\n",
    "z = a_b_test_statistic(1000, 200, 1000, 180) # -1.14\n",
    "print ( \"a_b_test_statistic  :\" ,z ) \n",
    "\n",
    "value = two_sided_p_value(z) # 0.254\n",
    "print ( \"two_sided_p_value  :\" ,value ) \n",
    "\n",
    "print(\"\")\n",
    "z = a_b_test_statistic(1000, 200, 1000, 150) # -2.94\n",
    "print ( \"a_b_test_statistic  :\" ,z ) \n",
    "value =  two_sided_p_value(z)\n",
    "print ( \"two_sided_p_value  :\" ,value ) \n"
   ]
  },
  {
   "cell_type": "code",
   "execution_count": null,
   "id": "088b0159-d975-4f6e-bc61-af71517f8082",
   "metadata": {},
   "outputs": [],
   "source": []
  }
 ],
 "metadata": {
  "kernelspec": {
   "display_name": "Python 3 (ipykernel)",
   "language": "python",
   "name": "python3"
  },
  "language_info": {
   "codemirror_mode": {
    "name": "ipython",
    "version": 3
   },
   "file_extension": ".py",
   "mimetype": "text/x-python",
   "name": "python",
   "nbconvert_exporter": "python",
   "pygments_lexer": "ipython3",
   "version": "3.11.6"
  }
 },
 "nbformat": 4,
 "nbformat_minor": 5
}
