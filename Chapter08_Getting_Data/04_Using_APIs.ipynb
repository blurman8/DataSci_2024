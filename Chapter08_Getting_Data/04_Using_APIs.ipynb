{
 "cells": [
  {
   "cell_type": "code",
   "execution_count": 2,
   "id": "7982fbd0-8fed-44ae-a77d-b618f22fefad",
   "metadata": {},
   "outputs": [
    {
     "name": "stdout",
     "output_type": "stream",
     "text": [
      "deserialized   : {'title': 'Data Science Book', 'author': 'Joel Grus', 'publicationYear': 2014, 'topics': ['data', 'science', 'data science']}\n"
     ]
    }
   ],
   "source": [
    "#JSON\n",
    "{\n",
    "    \"title\" : \"Data Science Book\",\n",
    "    \"author\" : \"Joel Grus\",\n",
    "    \"publicationYear\" : 2014,\n",
    "    \"topics\" : [ \"data\", \"science\", \"data science\"] \n",
    "}\n",
    "import json\n",
    "serialized = \"\"\"{ \"title\" : \"Data Science Book\",\n",
    "                \"author\" : \"Joel Grus\",\n",
    "                \"publicationYear\" : 2014,\n",
    "                \"topics\" : [ \"data\", \"science\", \"data science\"] }\"\"\"\n",
    "# parse the JSON to create a Python dict\n",
    "deserialized = json.loads(serialized)\n",
    "if \"data science\" in deserialized[\"topics\"]:\n",
    "    print (\"deserialized   :\",deserialized)"
   ]
  },
  {
   "cell_type": "code",
   "execution_count": 5,
   "id": "c521f8fc-01ac-4191-8c17-3f30bafd7816",
   "metadata": {},
   "outputs": [
    {
     "name": "stdout",
     "output_type": "stream",
     "text": [
      "last_5_languages  :  ['Python', 'Svelte', 'Python', 'Python', 'Python']\n"
     ]
    }
   ],
   "source": [
    "import requests, json\n",
    "from collections import Counter\n",
    "endpoint = \"https://api.github.com/users/joelgrus/repos\"\n",
    "\n",
    "repos = json.loads(requests.get(endpoint).text)\n",
    "\n",
    "#pip install python-dateutil\n",
    "\n",
    "from dateutil.parser import parse\n",
    "dates = [parse(repo[\"created_at\"]) for repo in repos]\n",
    "month_counts = Counter(date.month for date in dates)\n",
    "weekday_counts = Counter(date.weekday() for date in dates)\n",
    "\n",
    "last_5_repositories = sorted(repos,\n",
    "                                key=lambda r: r[\"created_at\"],\n",
    "                                reverse=True)[:5]\n",
    "last_5_languages = [repo[\"language\"]\n",
    "                    for repo in last_5_repositories]\n",
    "print ( \"last_5_languages  : \", last_5_languages )"
   ]
  },
  {
   "cell_type": "code",
   "execution_count": null,
   "id": "9912bcbb-e1e3-4cd5-a008-6b4fffe381b8",
   "metadata": {},
   "outputs": [],
   "source": [
    "\n",
    "\n"
   ]
  }
 ],
 "metadata": {
  "kernelspec": {
   "display_name": "Python 3 (ipykernel)",
   "language": "python",
   "name": "python3"
  },
  "language_info": {
   "codemirror_mode": {
    "name": "ipython",
    "version": 3
   },
   "file_extension": ".py",
   "mimetype": "text/x-python",
   "name": "python",
   "nbconvert_exporter": "python",
   "pygments_lexer": "ipython3",
   "version": "3.12.6"
  }
 },
 "nbformat": 4,
 "nbformat_minor": 5
}
