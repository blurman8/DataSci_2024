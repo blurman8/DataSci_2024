{
 "cells": [
  {
   "cell_type": "code",
   "execution_count": 7,
   "id": "fdf9d367-4cc8-46e2-9a1f-0d63a30473bd",
   "metadata": {},
   "outputs": [],
   "source": [
    "import math\n",
    "from typing import List\n",
    "Vector = List[float]\n",
    "def dot(v: Vector, w: Vector) -> float:\n",
    "    \"\"\"Computes v_1 * w_1 + ... + v_n * w_n\"\"\"\n",
    "    assert len(v) == len(w), \"vectors must be same length\"\n",
    "\n",
    "    return sum(v_i * w_i for v_i, w_i in zip(v, w))\n",
    "    \n",
    "def sigmoid(t: float) -> float:\n",
    "    return 1 / (1 + math.exp(-t))\n",
    "def neuron_output(weights: Vector, inputs: Vector) -> float:\n",
    "    # weights includes the bias term, inputs includes a 1\n",
    "    return sigmoid(dot(weights, inputs))\n",
    "\n",
    "from typing import List\n",
    "def feed_forward(neural_network: List[List[Vector]],\n",
    "    input_vector: Vector) -> List[Vector]:\n",
    "    \"\"\"\n",
    "    Feeds the input vector through the neural network.\n",
    "    Returns the outputs of all layers (not just the last one).\n",
    "    \"\"\"\n",
    "    outputs: List[Vector] = []\n",
    "    for layer in neural_network:\n",
    "        input_with_bias = input_vector + [1] # Add a constant.\n",
    "        output = [neuron_output(neuron, input_with_bias) # Compute the output\n",
    "        for neuron in layer] # for each neuron.\n",
    "        outputs.append(output) # Add to results.\n",
    "        # Then the input to the next layer is the output of this one\n",
    "        input_vector = output\n",
    "    return outputs\n",
    "xor_network = [# hidden layer\n",
    "                [[20., 20, -30], # 'and' neuron\n",
    "                [20., 20, -10]], # 'or' neuron\n",
    "                # output layer\n",
    "                [[-60., 60, -30]]] # '2nd input but not 1st input' neuron\n",
    "# feed_forward returns the outputs of all layers, so the [-1] gets the\n",
    "# final output, and the [0] gets the value out of the resulting vector\n",
    "assert 0.000 < feed_forward(xor_network, [0, 0])[-1][0] < 0.001\n",
    "assert 0.999 < feed_forward(xor_network, [1, 0])[-1][0] < 1.000\n",
    "assert 0.999 < feed_forward(xor_network, [0, 1])[-1][0] < 1.000\n",
    "assert 0.000 < feed_forward(xor_network, [1, 1])[-1][0] < 0.001"
   ]
  },
  {
   "cell_type": "code",
   "execution_count": 8,
   "id": "5fae1d58-a53d-4ae1-9890-fb1302c55f62",
   "metadata": {},
   "outputs": [
    {
     "name": "stdout",
     "output_type": "stream",
     "text": [
      "9.38314668300676e-14\n",
      "0.9999999999999059\n",
      "0.9999999999999059\n",
      "9.383146683006828e-14\n"
     ]
    }
   ],
   "source": [
    "print ( feed_forward(xor_network, [0, 0])[-1][0] )\n",
    "print ( feed_forward(xor_network, [1, 0])[-1][0] )\n",
    "print ( feed_forward(xor_network, [0, 1])[-1][0] )\n",
    "print ( feed_forward(xor_network, [1, 1])[-1][0] )\n"
   ]
  },
  {
   "cell_type": "code",
   "execution_count": null,
   "id": "3a441135-8329-49f9-b702-70ae1302530d",
   "metadata": {},
   "outputs": [],
   "source": []
  }
 ],
 "metadata": {
  "kernelspec": {
   "display_name": "Python 3 (ipykernel)",
   "language": "python",
   "name": "python3"
  },
  "language_info": {
   "codemirror_mode": {
    "name": "ipython",
    "version": 3
   },
   "file_extension": ".py",
   "mimetype": "text/x-python",
   "name": "python",
   "nbconvert_exporter": "python",
   "pygments_lexer": "ipython3",
   "version": "3.12.6"
  }
 },
 "nbformat": 4,
 "nbformat_minor": 5
}
