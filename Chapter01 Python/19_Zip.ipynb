{
 "cells": [
  {
   "cell_type": "code",
   "execution_count": 2,
   "id": "67af1f79-9dbc-4bb3-a728-4e409f698e02",
   "metadata": {},
   "outputs": [
    {
     "name": "stdout",
     "output_type": "stream",
     "text": [
      "all   [('a', 1), ('b', 2), ('c', 3)]\n"
     ]
    }
   ],
   "source": [
    "list1 = ['a', 'b', 'c']\n",
    "list2 = [1, 2, 3]\n",
    "all = zip(list1, list2) # is [('a', 1), ('b', 2), ('c', 3)]\n",
    "\n",
    "print (\"all  \",list(all))"
   ]
  },
  {
   "cell_type": "code",
   "execution_count": 4,
   "id": "ec359a23-10ec-41e3-bae9-680db136d5e6",
   "metadata": {},
   "outputs": [
    {
     "name": "stdout",
     "output_type": "stream",
     "text": [
      "letters    ('a', 'b', 'c')\n",
      "numbers    (1, 2, 3)\n"
     ]
    }
   ],
   "source": [
    "pairs = [('a', 1), ('b', 2), ('c', 3)]\n",
    "letters, numbers = zip(*pairs)\n",
    "print (\"letters   \", letters)\n",
    "print (\"numbers   \", numbers)\n"
   ]
  },
  {
   "cell_type": "code",
   "execution_count": 5,
   "id": "7b15d413-d38f-432e-ac63-ae9cbab7a903",
   "metadata": {},
   "outputs": [
    {
     "name": "stdout",
     "output_type": "stream",
     "text": [
      "all   [('a', 'b', 'c'), (1, 2, 3)]\n"
     ]
    }
   ],
   "source": [
    "all = zip(('a', 1), ('b', 2), ('c', 3))  # returns [('a','b','c'), ('1','2','3')]\n",
    "print (\"all  \",list(all))"
   ]
  },
  {
   "cell_type": "code",
   "execution_count": 8,
   "id": "c0401afc-77df-4a5e-910e-a216076142a0",
   "metadata": {},
   "outputs": [
    {
     "name": "stdout",
     "output_type": "stream",
     "text": [
      "add(1, 2)       3\n",
      "# TypeError!\n",
      "add(1, 2)       3\n"
     ]
    }
   ],
   "source": [
    "def add(a, b): return a + b\n",
    "add(1, 2) # returns 3\n",
    "print (\"add(1, 2)      \",add(1, 2) )\n",
    "try:\n",
    "    add([1, 2]) # TypeError!\n",
    "    print ( \"add([1, 2])     \" , add([1, 2]) )\n",
    "except :\n",
    "    print (\"# TypeError!\")\n",
    "\n",
    "\n",
    "add(*[1, 2]) # returns 3\n",
    "print (\"add(1, 2)      \",add(*[1, 2]) )\n"
   ]
  },
  {
   "cell_type": "code",
   "execution_count": null,
   "id": "7f1a4cb3-ff28-4291-8f1a-d7a2e4f78e29",
   "metadata": {},
   "outputs": [],
   "source": []
  }
 ],
 "metadata": {
  "kernelspec": {
   "display_name": "Python 3 (ipykernel)",
   "language": "python",
   "name": "python3"
  },
  "language_info": {
   "codemirror_mode": {
    "name": "ipython",
    "version": 3
   },
   "file_extension": ".py",
   "mimetype": "text/x-python",
   "name": "python",
   "nbconvert_exporter": "python",
   "pygments_lexer": "ipython3",
   "version": "3.12.6"
  }
 },
 "nbformat": 4,
 "nbformat_minor": 5
}
