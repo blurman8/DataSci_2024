{
 "cells": [
  {
   "cell_type": "code",
   "execution_count": 1,
   "id": "1e6f7706-e428-4c78-9ed6-3266b2528418",
   "metadata": {},
   "outputs": [
    {
     "name": "stdout",
     "output_type": "stream",
     "text": [
      "even_numbers [0, 2, 4]\n",
      "squares [0, 1, 4, 9, 16]\n",
      "even_squares [0, 4, 16]\n"
     ]
    }
   ],
   "source": [
    "even_numbers = [x for x in range(5) if x % 2 == 0] # [0, 2, 4]\n",
    "print(\"even_numbers\",even_numbers) \n",
    "squares = [x * x for x in range(5)] # [0, 1, 4, 9, 16]\n",
    "print(\"squares\",squares)\n",
    "even_squares = [x * x for x in even_numbers] # [0, 4, 16]\n",
    "print(\"even_squares\",even_squares) "
   ]
  },
  {
   "cell_type": "code",
   "execution_count": 3,
   "id": "b32fab9c-e7b1-408c-bf7d-fd9169b6ad79",
   "metadata": {},
   "outputs": [
    {
     "name": "stdout",
     "output_type": "stream",
     "text": [
      "square_dict {0: 0, 1: 1, 2: 4, 3: 9, 4: 16}\n",
      "square_set {1}\n"
     ]
    }
   ],
   "source": [
    "square_dict = { x : x * x for x in range(5) } # { 0:0, 1:1, 2:4, 3:9, 4:16 }\n",
    "print(\"square_dict\",square_dict)\n",
    "square_set = { x * x for x in [1, -1] } # { 1 }\n",
    "print(\"square_set\",square_set)"
   ]
  },
  {
   "cell_type": "code",
   "execution_count": 4,
   "id": "4940046b-0dcd-4982-907a-2d97369c6417",
   "metadata": {},
   "outputs": [
    {
     "name": "stdout",
     "output_type": "stream",
     "text": [
      "zeroes [0, 0, 0]\n"
     ]
    }
   ],
   "source": [
    "zeroes = [0 for _ in even_numbers] # has the same length as even_numbers\n",
    "print(\"zeroes\",zeroes)"
   ]
  },
  {
   "cell_type": "code",
   "execution_count": 6,
   "id": "0ab700ee-d958-484d-818f-e3313b23e4dc",
   "metadata": {},
   "outputs": [
    {
     "name": "stdout",
     "output_type": "stream",
     "text": [
      "pairs [(0, 0), (0, 1), (0, 2), (0, 3), (0, 4), (0, 5), (0, 6), (0, 7), (0, 8), (0, 9), (1, 0), (1, 1), (1, 2), (1, 3), (1, 4), (1, 5), (1, 6), (1, 7), (1, 8), (1, 9), (2, 0), (2, 1), (2, 2), (2, 3), (2, 4), (2, 5), (2, 6), (2, 7), (2, 8), (2, 9), (3, 0), (3, 1), (3, 2), (3, 3), (3, 4), (3, 5), (3, 6), (3, 7), (3, 8), (3, 9), (4, 0), (4, 1), (4, 2), (4, 3), (4, 4), (4, 5), (4, 6), (4, 7), (4, 8), (4, 9), (5, 0), (5, 1), (5, 2), (5, 3), (5, 4), (5, 5), (5, 6), (5, 7), (5, 8), (5, 9), (6, 0), (6, 1), (6, 2), (6, 3), (6, 4), (6, 5), (6, 6), (6, 7), (6, 8), (6, 9), (7, 0), (7, 1), (7, 2), (7, 3), (7, 4), (7, 5), (7, 6), (7, 7), (7, 8), (7, 9), (8, 0), (8, 1), (8, 2), (8, 3), (8, 4), (8, 5), (8, 6), (8, 7), (8, 8), (8, 9), (9, 0), (9, 1), (9, 2), (9, 3), (9, 4), (9, 5), (9, 6), (9, 7), (9, 8), (9, 9)]\n"
     ]
    }
   ],
   "source": [
    "pairs = [(x, y)\n",
    "for x in range(10)\n",
    "for y in range(10)] # 100 pairs (0,0) (0,1) ... (9,8), (9,9)\n",
    "print (\"pairs\" , pairs )"
   ]
  },
  {
   "cell_type": "code",
   "execution_count": 7,
   "id": "bbe6ab21-3596-48ea-9628-3b7ce9067f49",
   "metadata": {},
   "outputs": [
    {
     "name": "stdout",
     "output_type": "stream",
     "text": [
      "increasing_pairs [(0, 1), (0, 2), (0, 3), (0, 4), (0, 5), (0, 6), (0, 7), (0, 8), (0, 9), (1, 2), (1, 3), (1, 4), (1, 5), (1, 6), (1, 7), (1, 8), (1, 9), (2, 3), (2, 4), (2, 5), (2, 6), (2, 7), (2, 8), (2, 9), (3, 4), (3, 5), (3, 6), (3, 7), (3, 8), (3, 9), (4, 5), (4, 6), (4, 7), (4, 8), (4, 9), (5, 6), (5, 7), (5, 8), (5, 9), (6, 7), (6, 8), (6, 9), (7, 8), (7, 9), (8, 9)]\n"
     ]
    }
   ],
   "source": [
    "increasing_pairs = [(x, y) # only pairs with x < y,\n",
    "    for x in range(10) # range(lo, hi) equals\n",
    "    for y in range(x + 1, 10)] # [lo, lo + 1, ..., hi - 1]\n",
    "print ( \"increasing_pairs\",increasing_pairs)"
   ]
  },
  {
   "cell_type": "code",
   "execution_count": null,
   "id": "c776e377-7562-4a87-ba61-0388941b0e3c",
   "metadata": {},
   "outputs": [],
   "source": []
  }
 ],
 "metadata": {
  "kernelspec": {
   "display_name": "Python 3 (ipykernel)",
   "language": "python",
   "name": "python3"
  },
  "language_info": {
   "codemirror_mode": {
    "name": "ipython",
    "version": 3
   },
   "file_extension": ".py",
   "mimetype": "text/x-python",
   "name": "python",
   "nbconvert_exporter": "python",
   "pygments_lexer": "ipython3",
   "version": "3.12.6"
  }
 },
 "nbformat": 4,
 "nbformat_minor": 5
}
