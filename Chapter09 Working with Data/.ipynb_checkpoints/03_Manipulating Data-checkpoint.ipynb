{
 "cells": [
  {
   "cell_type": "code",
   "execution_count": 5,
   "id": "01deb6e5-0c3a-4be5-acf8-4d3e784d021e",
   "metadata": {},
   "outputs": [
    {
     "ename": "IndentationError",
     "evalue": "expected an indented block after 'for' statement on line 33 (474578896.py, line 34)",
     "output_type": "error",
     "traceback": [
      "\u001b[0;36m  Cell \u001b[0;32mIn[5], line 34\u001b[0;36m\u001b[0m\n\u001b[0;31m    grouped[grouper(row)].append(row)\u001b[0m\n\u001b[0m    ^\u001b[0m\n\u001b[0;31mIndentationError\u001b[0m\u001b[0;31m:\u001b[0m expected an indented block after 'for' statement on line 33\n"
     ]
    }
   ],
   "source": [
    "import datetime\n",
    "from collections import defaultdict\n",
    "data = [\n",
    "    {\n",
    "        'closing_price': 102.06,\n",
    "        'date': datetime.datetime(2014, 8, 29, 0, 0),\n",
    "        'symbol': 'AAPL'\n",
    "    },\n",
    "# ...\n",
    "]\n",
    "\n",
    "max_aapl_price = max(row[\"closing_price\"]\n",
    "                    for row in data\n",
    "                    if row[\"symbol\"] == \"AAPL\")\n",
    "\n",
    "\n",
    "# group rows by symbol\n",
    "by_symbol = defaultdict(list)\n",
    "for row in data:\n",
    "    by_symbol[row[\"symbol\"]].append(row)\n",
    "# use a dict comprehension to find the max for each symbol\n",
    "max_price_by_symbol = { symbol : max(row[\"closing_price\"]\n",
    "                                for row in grouped_rows)    \n",
    "                        for symbol, grouped_rows in by_symbol.items() }\n",
    "def picker(field_name):\n",
    "    \"\"\"returns a function that picks a field out of a dict\"\"\" \n",
    "    return lambda row: row[field_name]\n",
    "def pluck(field_name, rows):\n",
    "    \"\"\"turn a list of dicts into the list of field_name values\"\"\" \n",
    "    return map(picker(field_name), rows)\n",
    "def group_by(grouper, rows, value_transform=None):\n",
    "    # key is output of grouper, value is list of rows grouped = defaultdict(list)\n",
    "    for row in rows:\n",
    "    grouped[grouper(row)].append(row)\n",
    "    if value_transform is None: \n",
    "        return grouped\n",
    "    else:\n",
    "        return { key : value_transform(rows)\n",
    "                for key, rows in grouped.iteritems() }\n",
    "\n",
    "max_price_by_symbol = group_by(picker(\"symbol\"),\n",
    "                                data,\n",
    "                                lambda rows: max(pluck(\"closing_price\", rows)))\n",
    "def percent_price_change(yesterday, today):\n",
    "    return today[\"closing_price\"] / yesterday[\"closing_price\"] - 1\n",
    "\n",
    "def day_over_day_changes(grouped_rows):\n",
    "    # sort the rows by date\n",
    "    ordered = sorted(grouped_rows, key=picker(\"date\"))\n",
    "    # zip with an offset to get pairs of consecutive days\n",
    "    return [{ \"symbol\" : today[\"symbol\"],\n",
    "                \"date\" : today[\"date\"],\n",
    "                \"change\" : percent_price_change(yesterday, today) }\n",
    "            for yesterday, today in zip(ordered, ordered[1:])]  \n",
    "\n",
    "\n",
    "# key is symbol, value is list of \"change\" dicts\n",
    "changes_by_symbol = group_by(picker(\"symbol\"), data, day_over_day_changes)\n",
    "# collect all \"change\" dicts into one big list\n",
    "all_changes = [change\n",
    "                for changes in changes_by_symbol.values()\n",
    "                for change in changes]"
   ]
  },
  {
   "cell_type": "code",
   "execution_count": 6,
   "id": "f63dd408-f472-47b2-8696-c047eb02b4e9",
   "metadata": {},
   "outputs": [
    {
     "ename": "NameError",
     "evalue": "name 'group_by' is not defined",
     "output_type": "error",
     "traceback": [
      "\u001b[0;31m---------------------------------------------------------------------------\u001b[0m",
      "\u001b[0;31mNameError\u001b[0m                                 Traceback (most recent call last)",
      "Cell \u001b[0;32mIn[6], line 15\u001b[0m\n\u001b[1;32m      8\u001b[0m     \u001b[38;5;28;01mreturn\u001b[39;00m [{ \u001b[38;5;124m\"\u001b[39m\u001b[38;5;124msymbol\u001b[39m\u001b[38;5;124m\"\u001b[39m : today[\u001b[38;5;124m\"\u001b[39m\u001b[38;5;124msymbol\u001b[39m\u001b[38;5;124m\"\u001b[39m],\n\u001b[1;32m      9\u001b[0m                 \u001b[38;5;124m\"\u001b[39m\u001b[38;5;124mdate\u001b[39m\u001b[38;5;124m\"\u001b[39m : today[\u001b[38;5;124m\"\u001b[39m\u001b[38;5;124mdate\u001b[39m\u001b[38;5;124m\"\u001b[39m],\n\u001b[1;32m     10\u001b[0m                 \u001b[38;5;124m\"\u001b[39m\u001b[38;5;124mchange\u001b[39m\u001b[38;5;124m\"\u001b[39m : percent_price_change(yesterday, today) }\n\u001b[1;32m     11\u001b[0m             \u001b[38;5;28;01mfor\u001b[39;00m yesterday, today \u001b[38;5;129;01min\u001b[39;00m \u001b[38;5;28mzip\u001b[39m(ordered, ordered[\u001b[38;5;241m1\u001b[39m:])]  \n\u001b[1;32m     14\u001b[0m \u001b[38;5;66;03m# key is symbol, value is list of \"change\" dicts\u001b[39;00m\n\u001b[0;32m---> 15\u001b[0m changes_by_symbol \u001b[38;5;241m=\u001b[39m \u001b[43mgroup_by\u001b[49m(picker(\u001b[38;5;124m\"\u001b[39m\u001b[38;5;124msymbol\u001b[39m\u001b[38;5;124m\"\u001b[39m), data, day_over_day_changes)\n\u001b[1;32m     16\u001b[0m \u001b[38;5;66;03m# collect all \"change\" dicts into one big list\u001b[39;00m\n\u001b[1;32m     17\u001b[0m all_changes \u001b[38;5;241m=\u001b[39m [change\n\u001b[1;32m     18\u001b[0m                 \u001b[38;5;28;01mfor\u001b[39;00m changes \u001b[38;5;129;01min\u001b[39;00m changes_by_symbol\u001b[38;5;241m.\u001b[39mvalues()\n\u001b[1;32m     19\u001b[0m                 \u001b[38;5;28;01mfor\u001b[39;00m change \u001b[38;5;129;01min\u001b[39;00m changes]\n",
      "\u001b[0;31mNameError\u001b[0m: name 'group_by' is not defined"
     ]
    }
   ],
   "source": [
    "\n"
   ]
  },
  {
   "cell_type": "code",
   "execution_count": null,
   "id": "79184672-7fe3-48ec-a5b4-dd1f6c6b639a",
   "metadata": {},
   "outputs": [],
   "source": []
  }
 ],
 "metadata": {
  "kernelspec": {
   "display_name": "Python 3 (ipykernel)",
   "language": "python",
   "name": "python3"
  },
  "language_info": {
   "codemirror_mode": {
    "name": "ipython",
    "version": 3
   },
   "file_extension": ".py",
   "mimetype": "text/x-python",
   "name": "python",
   "nbconvert_exporter": "python",
   "pygments_lexer": "ipython3",
   "version": "3.12.6"
  }
 },
 "nbformat": 4,
 "nbformat_minor": 5
}
