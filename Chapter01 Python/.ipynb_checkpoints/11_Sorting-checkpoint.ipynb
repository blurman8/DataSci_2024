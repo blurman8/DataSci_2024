{
 "cells": [
  {
   "cell_type": "code",
   "execution_count": 3,
   "id": "f0fb2c92-51c2-4d08-ba52-c2975efe62b4",
   "metadata": {},
   "outputs": [
    {
     "name": "stdout",
     "output_type": "stream",
     "text": [
      "y [1, 2, 3, 4]\n",
      "x [1, 2, 3, 4]\n"
     ]
    }
   ],
   "source": [
    "x = [4,1,2,3]\n",
    "y = sorted(x) # is [1,2,3,4], x is unchanged\n",
    "print (\"y\", y )\n",
    "x.sort() # now x is [1,2,3,4]\n",
    "print (\"x\", x ) "
   ]
  },
  {
   "cell_type": "code",
   "execution_count": 19,
   "id": "d433a80c-f66d-4b26-9a4d-d40c9e7298b4",
   "metadata": {},
   "outputs": [
    {
     "name": "stdout",
     "output_type": "stream",
     "text": [
      "x [-4, 3, -2, 1]\n",
      "wc [('foo', 4), ('quux', 3), ('bar', 2)]\n"
     ]
    }
   ],
   "source": [
    "# sort the list by absolute value from largest to smallest\n",
    "x = sorted([-4,1,-2,3], key=abs, reverse=True) # is [-4,3,-2,1]\n",
    "print (\"x\", x ) \n",
    "\n",
    "word_counts = { \"foo\": 4, \"bar\": 2, \"quux\": 3 }\n",
    "\n",
    "# sort the words and counts from highest count to lowest\n",
    "wc = sorted(word_counts.items(), key=lambda item: item[1], reverse=True)\n",
    "print (\"wc\", wc ) "
   ]
  },
  {
   "cell_type": "code",
   "execution_count": null,
   "id": "bf133686-ac28-424b-b61f-76953ec6b334",
   "metadata": {},
   "outputs": [],
   "source": []
  },
  {
   "cell_type": "code",
   "execution_count": null,
   "id": "93325296-67b4-4629-a206-3ad0ec28da3c",
   "metadata": {},
   "outputs": [],
   "source": []
  }
 ],
 "metadata": {
  "kernelspec": {
   "display_name": "Python 3 (ipykernel)",
   "language": "python",
   "name": "python3"
  },
  "language_info": {
   "codemirror_mode": {
    "name": "ipython",
    "version": 3
   },
   "file_extension": ".py",
   "mimetype": "text/x-python",
   "name": "python",
   "nbconvert_exporter": "python",
   "pygments_lexer": "ipython3",
   "version": "3.12.6"
  }
 },
 "nbformat": 4,
 "nbformat_minor": 5
}
