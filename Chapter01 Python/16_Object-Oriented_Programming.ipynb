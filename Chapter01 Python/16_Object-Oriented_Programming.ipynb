{
 "cells": [
  {
   "cell_type": "code",
   "execution_count": 2,
   "id": "d1bcf46b-4b5b-4dc0-a74b-c29f69f82815",
   "metadata": {},
   "outputs": [
    {
     "name": "stdout",
     "output_type": "stream",
     "text": [
      "s.contains(4) True\n",
      "s.contains(3) False\n"
     ]
    }
   ],
   "source": [
    "# by convention, we give classes PascalCase names\n",
    "class Set:\n",
    "# these are the member functions\n",
    "# every one takes a first parameter \"self\" (another convention)\n",
    "# that refers to the particular Set object being used\n",
    "    def __init__(self, values=None):\n",
    "        \"\"\"This is the constructor.\n",
    "        It gets called when you create a new Set.\n",
    "        You would use it like\n",
    "        s1 = Set() # empty set\n",
    "        s2 = Set([1,2,2,3]) # initialize with values\"\"\"\n",
    "        self.dict = {} # each instance of Set has its own dict property\n",
    "        # which is what we'll use to track memberships\n",
    "        if values is not None:\n",
    "            for value in values:\n",
    "                self.add(value)\n",
    "    def __repr__(self):\n",
    "        \"\"\"this is the string representation of a Set object\n",
    "        if you type it at the Python prompt or pass it to str()\"\"\"\n",
    "        return \"Set: \" + str(self.dict.keys())\n",
    "        # we'll represent membership by being a key in self.dict with value True\n",
    "    def add(self, value):\n",
    "            self.dict[value] = True\n",
    "        # value is in the Set if it's a key in the dictionary\n",
    "    def contains(self, value):\n",
    "        return value in self.dict\n",
    "    def remove(self, value):\n",
    "        del self.dict[value]\n",
    "\n",
    "\n",
    "\n",
    "s = Set([1,2,3])\n",
    "s.add(4)\n",
    "print (\"s.contains(4)\", s.contains(4)) # True\n",
    "s.remove(3)\n",
    "print (\"s.contains(3)\", s.contains(3)) # False"
   ]
  },
  {
   "cell_type": "code",
   "execution_count": null,
   "id": "ac663e69-7a77-427a-bc8e-fb3645e2141a",
   "metadata": {},
   "outputs": [],
   "source": []
  }
 ],
 "metadata": {
  "kernelspec": {
   "display_name": "Python 3 (ipykernel)",
   "language": "python",
   "name": "python3"
  },
  "language_info": {
   "codemirror_mode": {
    "name": "ipython",
    "version": 3
   },
   "file_extension": ".py",
   "mimetype": "text/x-python",
   "name": "python",
   "nbconvert_exporter": "python",
   "pygments_lexer": "ipython3",
   "version": "3.12.6"
  }
 },
 "nbformat": 4,
 "nbformat_minor": 5
}
