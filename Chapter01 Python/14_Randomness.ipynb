{
 "cells": [
  {
   "cell_type": "code",
   "execution_count": 2,
   "id": "9f07b947-8d10-4419-b990-954aeef91a8d",
   "metadata": {},
   "outputs": [
    {
     "name": "stdout",
     "output_type": "stream",
     "text": [
      "four_uniform_randoms [0.9228817359252134, 0.7484001703795772, 0.4163770480067793, 0.08142825834223644]\n"
     ]
    }
   ],
   "source": [
    "import random\n",
    "four_uniform_randoms = [random.random() for _ in range(4)]\n",
    "# [0.8444218515250481, # random.random() produces numbers\n",
    "# 0.7579544029403025, # uniformly between 0 and 1\n",
    "# 0.420571580830845, # it's the random function we'll use\n",
    "# 0.25891675029296335] # most often\n",
    "print (\"four_uniform_randoms\", four_uniform_randoms )"
   ]
  },
  {
   "cell_type": "code",
   "execution_count": 3,
   "id": "f1a67d91-17ee-451f-8609-f76464b3290f",
   "metadata": {},
   "outputs": [
    {
     "name": "stdout",
     "output_type": "stream",
     "text": [
      "random.random() 0.5714025946899135\n",
      "random.random() 0.5714025946899135\n"
     ]
    }
   ],
   "source": [
    "random.seed(10) # set the seed to 10\n",
    "print (\"random.random()\",random.random()) # 0.57140259469\n",
    "\n",
    "random.seed(10) # reset the seed to 10\n",
    "print (\"random.random()\",random.random()) # 0.57140259469 again\n"
   ]
  },
  {
   "cell_type": "code",
   "execution_count": 4,
   "id": "1761c07a-66e6-4743-8868-e724856ee7b7",
   "metadata": {},
   "outputs": [
    {
     "name": "stdout",
     "output_type": "stream",
     "text": [
      "random.randrange(10) 7\n",
      "random.randrange(3, 6) 3\n"
     ]
    }
   ],
   "source": [
    "random.randrange(10) # choose randomly from range(10) = [0, 1, ..., 9]\n",
    "print (\"random.randrange(10)\",random.randrange(10))\n",
    "random.randrange(3, 6) # choose randomly from range(3, 6) = [3, 4, 5]\n",
    "print (\"random.randrange(3, 6)\",random.randrange(3, 6))"
   ]
  },
  {
   "cell_type": "code",
   "execution_count": 6,
   "id": "96fdb85c-ce97-49fb-9b4c-ee89f063fe20",
   "metadata": {},
   "outputs": [
    {
     "name": "stdout",
     "output_type": "stream",
     "text": [
      "up_to_ten [2, 8, 6, 3, 0, 1, 5, 4, 9, 7]\n"
     ]
    }
   ],
   "source": [
    "up_to_ten = [*range(10)]\n",
    "random.shuffle(up_to_ten)\n",
    "print (\"up_to_ten\",up_to_ten)\n",
    "# [2, 5, 1, 9, 7, 3, 8, 6, 4, 0] (your results will probably be different)"
   ]
  },
  {
   "cell_type": "code",
   "execution_count": 9,
   "id": "0a2d54be-5273-4bc1-87f5-cd591f3e7d49",
   "metadata": {},
   "outputs": [
    {
     "name": "stdout",
     "output_type": "stream",
     "text": [
      "my_best_friend Bob\n"
     ]
    }
   ],
   "source": [
    "my_best_friend = random.choice([\"Alice\", \"Bob\", \"Charlie\"]) # \"Bob\" for me\n",
    "print (\"my_best_friend\",my_best_friend)"
   ]
  },
  {
   "cell_type": "code",
   "execution_count": 13,
   "id": "c8afef19-955c-4195-8338-a19e8cb1fe62",
   "metadata": {},
   "outputs": [
    {
     "name": "stdout",
     "output_type": "stream",
     "text": [
      "winning_numbers [8, 29, 49, 55, 15, 28]\n"
     ]
    }
   ],
   "source": [
    "lottery_numbers = [*range(60)]\n",
    "winning_numbers = random.sample(lottery_numbers, 6) # [16, 36, 10, 6, 25, 9]\n",
    "print (\"winning_numbers\",winning_numbers)"
   ]
  }
 ],
 "metadata": {
  "kernelspec": {
   "display_name": "Python 3 (ipykernel)",
   "language": "python",
   "name": "python3"
  },
  "language_info": {
   "codemirror_mode": {
    "name": "ipython",
    "version": 3
   },
   "file_extension": ".py",
   "mimetype": "text/x-python",
   "name": "python",
   "nbconvert_exporter": "python",
   "pygments_lexer": "ipython3",
   "version": "3.12.6"
  }
 },
 "nbformat": 4,
 "nbformat_minor": 5
}
