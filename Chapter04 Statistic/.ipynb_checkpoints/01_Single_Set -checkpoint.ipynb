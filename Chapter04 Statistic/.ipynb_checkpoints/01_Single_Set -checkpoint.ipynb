{
 "cells": [
  {
   "cell_type": "code",
   "execution_count": 39,
   "id": "dc19c3f9-7420-4766-99ff-0253a61ffda9",
   "metadata": {},
   "outputs": [
    {
     "name": "stdout",
     "output_type": "stream",
     "text": [
      "24\n"
     ]
    },
    {
     "data": {
      "image/png": "[encoded data removed]",
      "text/plain": [
       "<Figure size 640x480 with 1 Axes>"
      ]
     },
     "metadata": {},
     "output_type": "display_data"
    }
   ],
   "source": [
    "from matplotlib import pyplot as plt\n",
    "from collections import Counter\n",
    "users = [\n",
    "        { \"id\": 0, \"name\": \"Hero\" },\n",
    "        { \"id\": 1, \"name\": \"Dunn\" },\n",
    "        { \"id\": 2, \"name\": \"Sue\" },\n",
    "        { \"id\": 3, \"name\": \"Chi\" },\n",
    "        { \"id\": 4, \"name\": \"Thor\" },\n",
    "        { \"id\": 5, \"name\": \"Clive\" },\n",
    "        { \"id\": 6, \"name\": \"Hicks\" },\n",
    "        { \"id\": 7, \"name\": \"Devin\" },\n",
    "        { \"id\": 8, \"name\": \"Kate\" },\n",
    "        { \"id\": 9, \"name\": \"Klein\" }\n",
    "]\n",
    "friendships = [(0, 1), (0, 2), (1, 2), (1, 3), (2, 3), (3, 4),\n",
    "                   (4, 5), (5, 6), (5, 7), (6, 8), (7, 8), (8, 9)]\n",
    "\n",
    "for user in users: user[\"friends\"] = []\n",
    "for i, j in friendships:\n",
    "    # this works because users[i] is the user whose id is i \n",
    "    users[i][\"friends\"].append(users[j]) # add i as a friend of j \n",
    "    users[j][\"friends\"].append(users[i]) # add j as a friend of i\n",
    "\n",
    "def number_of_friends(user) :\n",
    "    return len(user[\"friends\"])\n",
    "\n",
    "total_connections = sum(number_of_friends(user) for user in users)\n",
    "\n",
    "num_friends = number_of_friends(user)\n",
    "print (total_connections)\n",
    "\n",
    "num_friends = [100, 49, 41, 40, 25,\n",
    "               3, 4, 5, 6, 7, 8, 8, 8, 1, 3, 4, 5, 6, 7, 9, 9, 9, 1,\n",
    "               3, 4, 5, 6, 7, 10, 10, 10, 3, 4, 5, 6, 7, 8, 8, 8, 1,\n",
    "               3, 4, 5, 6, 7, 8, 8, 8, 2, 3, 4, 5, 6, 7, 9, 9, 9, 2,\n",
    "               3, 4, 5, 6, 7, 10, 10, 10, 3, 4, 5, 6, 7, 10, 10, 10,\n",
    "               3, 4, 5, 6, 7, 10, 10, 10, 3, 4, 5, 6, 7, 10, 10, 10,\n",
    "               3, 4, 5, 6, 7, 10, 10, 10, 3, 4, 5, 6, 7, 10, 10, 10,\n",
    "               3, 4, 5, 6, 7, 8, 8, 8, 1, 3, 4, 5, 6, 7, 9, 9, 9, 1,\n",
    "               13, 14, 15, 16, 17, 18, 18, 18, 18,\n",
    "               13, 14, 15, 16, 17, 18, 18, 18, 45,\n",
    "               13, 14, 15, 16, 17, 19, 19, 19, 46,\n",
    "               13, 14, 15, 16, 17, 18, 18, 18, 47,\n",
    "               13, 14, 15, 16, 17, 19, 19, 19, 49,\n",
    "               13, 14, 15, 16, 17, 10, 10, 10,\n",
    "               49, 41, 40, 25 ]\n",
    "friend_counts = Counter(num_friends)\n",
    "xs = range(101) # largest value is 100\n",
    "ys = [friend_counts[x] for x in xs] # height is just # of friends\n",
    "plt.bar(xs, ys)\n",
    "plt.axis([0, 101, 0, 25])\n",
    "plt.title(\"Histogram of Friend Counts\")\n",
    "plt.xlabel(\"# of friends\")\n",
    "plt.ylabel(\"# of people\")\n",
    "plt.show()"
   ]
  },
  {
   "cell_type": "code",
   "execution_count": 41,
   "id": "8f6605d8-11f7-4ec6-86b5-14477790b18b",
   "metadata": {},
   "outputs": [
    {
     "name": "stdout",
     "output_type": "stream",
     "text": [
      "num_points    181\n",
      "largest_value    100\n",
      "smallest_value    1\n",
      "sorted_values    [1, 1, 1, 1, 1, 2, 2, 3, 3, 3, 3, 3, 3, 3, 3, 3, 3, 3, 3, 3, 3, 4, 4, 4, 4, 4, 4, 4, 4, 4, 4, 4, 4, 4, 4, 5, 5, 5, 5, 5, 5, 5, 5, 5, 5, 5, 5, 5, 5, 6, 6, 6, 6, 6, 6, 6, 6, 6, 6, 6, 6, 6, 6, 7, 7, 7, 7, 7, 7, 7, 7, 7, 7, 7, 7, 7, 7, 8, 8, 8, 8, 8, 8, 8, 8, 8, 8, 8, 8, 9, 9, 9, 9, 9, 9, 9, 9, 9, 10, 10, 10, 10, 10, 10, 10, 10, 10, 10, 10, 10, 10, 10, 10, 10, 10, 10, 10, 10, 10, 10, 10, 10, 13, 13, 13, 13, 13, 13, 14, 14, 14, 14, 14, 14, 15, 15, 15, 15, 15, 15, 16, 16, 16, 16, 16, 16, 17, 17, 17, 17, 17, 17, 18, 18, 18, 18, 18, 18, 18, 18, 18, 18, 19, 19, 19, 19, 19, 19, 25, 25, 40, 40, 41, 41, 45, 46, 47, 49, 49, 49, 100]\n",
      "sorted_values   sorted_values[0]    1\n",
      "second_smallest_value   sorted_values[-1]    1\n",
      "second_largest_value   sorted_values[-2]    49\n"
     ]
    }
   ],
   "source": [
    "num_points = len(num_friends) # 181 \n",
    "print ( \"num_points   \",num_points )\n",
    "largest_value = max(num_friends) # 100\n",
    "print ( \"largest_value   \",largest_value )\n",
    "smallest_value = min(num_friends) #  1\n",
    "print ( \"smallest_value   \",smallest_value )\n",
    "\n",
    "sorted_values = sorted(num_friends)\n",
    "print ( \"sorted_values   \",sorted_values )\n",
    "smallest_value = sorted_values[0] # 1\n",
    "print ( \"sorted_values   sorted_values[0]   \",smallest_value )\n",
    "\n",
    "second_smallest_value = sorted_values[1] # 1\n",
    "print ( \"second_smallest_value   sorted_values[-1]   \",second_smallest_value )\n",
    "\n",
    "second_largest_value = sorted_values[-2] # 49\n",
    "print ( \"second_largest_value   sorted_values[-2]   \",second_largest_value )\n"
   ]
  },
  {
   "cell_type": "code",
   "execution_count": null,
   "id": "c77de79d-6715-441f-9d1d-8751c3a4581c",
   "metadata": {},
   "outputs": [],
   "source": []
  }
 ],
 "metadata": {
  "kernelspec": {
   "display_name": "Python 3 (ipykernel)",
   "language": "python",
   "name": "python3"
  },
  "language_info": {
   "codemirror_mode": {
    "name": "ipython",
    "version": 3
   },
   "file_extension": ".py",
   "mimetype": "text/x-python",
   "name": "python",
   "nbconvert_exporter": "python",
   "pygments_lexer": "ipython3",
   "version": "3.12.6"
  }
 },
 "nbformat": 4,
 "nbformat_minor": 5
}
