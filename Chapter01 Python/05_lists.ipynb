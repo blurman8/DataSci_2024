{
 "cells": [
  {
   "cell_type": "code",
   "execution_count": 1,
   "id": "be4f3adb-664b-4202-a075-250adb3e79ef",
   "metadata": {},
   "outputs": [],
   "source": [
    "integer_list = [1, 2, 3]\n",
    "heterogeneous_list = [\"string\", 0.1, True]\n",
    "list_of_lists = [ integer_list, heterogeneous_list, [] ]\n",
    "list_length = len(integer_list) # equals 3\n",
    "list_sum = sum(integer_list) # equals 6\n"
   ]
  },
  {
   "cell_type": "code",
   "execution_count": 37,
   "id": "c7f3aaa9-edd6-4b50-823e-0599922bde91",
   "metadata": {},
   "outputs": [
    {
     "name": "stdout",
     "output_type": "stream",
     "text": [
      "zero 0\n",
      "one 1\n",
      "nine 9\n",
      "eight 8\n",
      "x [-1, 1, 2, 3, 4, 5, 6, 7, 8, 9]\n",
      "first_three [-1, 1, 2]\n",
      "three_to_end [3, 4, 5, 6, 7, 8, 9]\n",
      "one_to_four [1, 2, 3, 4]\n",
      "last_three [7, 8, 9]\n",
      "without_first_and_last [1, 2, 3, 4, 5, 6, 7, 8]\n",
      "copy_of_x [-1, 1, 2, 3, 4, 5, 6, 7, 8, 9]\n"
     ]
    }
   ],
   "source": [
    "x = [*range(10)] # is the list [0, 1, ..., 9]\n",
    "x[1] = 1 \n",
    "zero = x[0] # equals 0, lists are 0-indexed\n",
    "one = x[1] # equals 1\n",
    "nine = x[-1] # equals 9, 'Pythonic' for last element\n",
    "eight = x[-2] # equals 8, 'Pythonic' for next-to-last element\n",
    "print(\"zero\",zero)\n",
    "print(\"one\",one)\n",
    "print(\"nine\",nine)\n",
    "print(\"eight\",eight)\n",
    "\n",
    "x[0] = -1 # now x is [-1, 1, 2, 3, ..., 9]\n",
    "print(\"x\",x)\n",
    "\n",
    "first_three = x[:3] # [-1, 1, 2]\n",
    "print(\"first_three\", first_three)\n",
    "three_to_end = x[3:] # [3, 4, ..., 9]\n",
    "print(\"three_to_end\", three_to_end)\n",
    "one_to_four = x[1:5] # [1, 2, 3, 4]\n",
    "print(\"one_to_four\", one_to_four)\n",
    "last_three = x[-3:] # [7, 8, 9]\n",
    "print(\"last_three\", last_three)\n",
    "without_first_and_last = x[1:-1] # [1, 2, ..., 8]\n",
    "print(\"without_first_and_last\", without_first_and_last)\n",
    "copy_of_x = x[:] # [-1, 1, 2, ..., 9]\n",
    "print(\"copy_of_x\", copy_of_x)"
   ]
  },
  {
   "cell_type": "code",
   "execution_count": 36,
   "id": "de9b0c52-83cc-45d3-ad72-258fc48dcf44",
   "metadata": {},
   "outputs": [
    {
     "name": "stdout",
     "output_type": "stream",
     "text": [
      "1 in [1, 2, 3] True\n",
      "0 in [1, 2, 3] False\n"
     ]
    }
   ],
   "source": [
    "1 in [1, 2, 3] # True\n",
    "print (\"1 in [1, 2, 3]\", 1 in [1, 2, 3])\n",
    "0 in [1, 2, 3] # False\n",
    "print (\"0 in [1, 2, 3]\", 0 in [1, 2, 3])\n"
   ]
  },
  {
   "cell_type": "code",
   "execution_count": 30,
   "id": "8a016205-0f29-4f1f-ae1e-8cdaef72aaa8",
   "metadata": {},
   "outputs": [
    {
     "name": "stdout",
     "output_type": "stream",
     "text": [
      "[1, 2, 3]\n",
      "[1, 2, 3, 4, 5, 6]\n"
     ]
    }
   ],
   "source": [
    "x = [1, 2, 3]\n",
    "print(\"x\", x)\n",
    "x.extend([4, 5, 6]) # x is now [1,2,3,4,5,6]\n",
    "print(\"x\", x)"
   ]
  },
  {
   "cell_type": "code",
   "execution_count": 31,
   "id": "b04a88d7-7048-4278-8ffb-fb804d3d2996",
   "metadata": {},
   "outputs": [
    {
     "name": "stdout",
     "output_type": "stream",
     "text": [
      "[1, 2, 3]\n",
      "[1, 2, 3, 4, 5, 6]\n"
     ]
    }
   ],
   "source": [
    "x = [1, 2, 3]\n",
    "y = x + [4, 5, 6] # y is [1, 2, 3, 4, 5, 6]; x is unchanged\n",
    "print(\"x\", x)\n",
    "print(\"y\", y)"
   ]
  },
  {
   "cell_type": "code",
   "execution_count": 39,
   "id": "b0625874-9d62-41e2-abd7-5bb63da72936",
   "metadata": {},
   "outputs": [
    {
     "name": "stdout",
     "output_type": "stream",
     "text": [
      "x [1, 2, 3]\n",
      "x [1, 2, 3, 0]\n"
     ]
    }
   ],
   "source": [
    "x = [1, 2, 3]\n",
    "print(\"x\", x)\n",
    "x.append(0) # x is now [1, 2, 3, 0]\n",
    "print(\"x\", x)\n"
   ]
  },
  {
   "cell_type": "code",
   "execution_count": 40,
   "id": "85c5da68-3620-4b5c-9e86-6a4920c96f3b",
   "metadata": {},
   "outputs": [
    {
     "name": "stdout",
     "output_type": "stream",
     "text": [
      "y 0\n",
      "z 4\n"
     ]
    }
   ],
   "source": [
    "y = x[-1] # equals 0\n",
    "print(\"y\", y)\n",
    "z = len(x) # equals 4\n",
    "print(\"z\", z)\n"
   ]
  },
  {
   "cell_type": "code",
   "execution_count": 41,
   "id": "468a958a-e57f-4886-825a-fbdd61429540",
   "metadata": {},
   "outputs": [
    {
     "name": "stdout",
     "output_type": "stream",
     "text": [
      "x 1\n",
      "y 2\n"
     ]
    }
   ],
   "source": [
    "x, y = [1, 2] # now x is 1, y is 2\n",
    "print(\"x\", x)\n",
    "print(\"y\", y)\n"
   ]
  },
  {
   "cell_type": "code",
   "execution_count": 42,
   "id": "e61c3fe2-0472-4a4e-8988-f906f2a5acc0",
   "metadata": {},
   "outputs": [
    {
     "name": "stdout",
     "output_type": "stream",
     "text": [
      "y 2\n"
     ]
    }
   ],
   "source": [
    "_, y = [1, 2] # now y == 2, didn't care about the first element\n",
    "print(\"y\", y)\n"
   ]
  },
  {
   "cell_type": "code",
   "execution_count": null,
   "id": "a2b4ddda-7ff5-462a-b0d0-af607a91d427",
   "metadata": {},
   "outputs": [],
   "source": []
  }
 ],
 "metadata": {
  "kernelspec": {
   "display_name": "Python 3 (ipykernel)",
   "language": "python",
   "name": "python3"
  },
  "language_info": {
   "codemirror_mode": {
    "name": "ipython",
    "version": 3
   },
   "file_extension": ".py",
   "mimetype": "text/x-python",
   "name": "python",
   "nbconvert_exporter": "python",
   "pygments_lexer": "ipython3",
   "version": "3.12.6"
  }
 },
 "nbformat": 4,
 "nbformat_minor": 5
}
