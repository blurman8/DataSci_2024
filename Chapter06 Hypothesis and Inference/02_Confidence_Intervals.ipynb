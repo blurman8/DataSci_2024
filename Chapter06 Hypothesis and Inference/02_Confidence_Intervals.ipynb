{
 "cells": [
  {
   "cell_type": "code",
   "execution_count": 2,
   "id": "6a755f45-79c1-4742-82b0-89e6e9f4a79a",
   "metadata": {},
   "outputs": [],
   "source": [
    "import math"
   ]
  },
  {
   "cell_type": "code",
   "execution_count": 3,
   "id": "703a0dd6-5666-4098-8c61-d47e9f3919b0",
   "metadata": {},
   "outputs": [
    {
     "name": "stdout",
     "output_type": "stream",
     "text": [
      "sigma   =  0.015791611697353755\n"
     ]
    }
   ],
   "source": [
    "#math.sqrt(p * (1 - p) / 1000)\n",
    "\n",
    "p_hat = 525 / 1000\n",
    "mu = p_hat\n",
    "sigma = math.sqrt(p_hat * (1 - p_hat) / 1000) # 0.0158\n",
    "\n",
    "print (\"sigma   = \", sigma) \n",
    "\n",
    "\n"
   ]
  },
  {
   "cell_type": "code",
   "execution_count": 6,
   "id": "9af96959-58e2-4fbf-a887-723365476f37",
   "metadata": {},
   "outputs": [],
   "source": [
    "def normal_cdf(x, mu=0,sigma=1):\n",
    "    return (1 + math.erf((x - mu) / math.sqrt(2) / sigma)) / 2\n",
    "\n",
    "def inverse_normal_cdf(p, mu=0, sigma=1, tolerance=0.00001):\n",
    "    \"\"\"find approximate inverse using binary search\"\"\"\n",
    "    # if not standard, compute standard and rescale\n",
    "    if mu != 0 or sigma != 1:\n",
    "        return mu + sigma * inverse_normal_cdf(p, tolerance=tolerance)\n",
    "    low_z, low_p = -10.0, 0 # normal_cdf(-10) is (very close to) 0\n",
    "    hi_z, hi_p = 10.0, 1 # normal_cdf(10) is (very close to) 1\n",
    "    while hi_z - low_z > tolerance:\n",
    "        mid_z = (low_z + hi_z) / 2 # consider the midpoint\n",
    "        mid_p = normal_cdf(mid_z) # and the cdf's value there\n",
    "        if mid_p < p:\n",
    "        # midpoint is still too low, search above it\n",
    "            low_z, low_p = mid_z, mid_p\n",
    "        elif mid_p > p:\n",
    "        # midpoint is still too high, search below it\n",
    "            hi_z, hi_p = mid_z, mid_p\n",
    "        else:\n",
    "            break\n",
    "    return mid_z"
   ]
  },
  {
   "cell_type": "code",
   "execution_count": 8,
   "id": "76ad8352-4def-4eb5-92a6-53bb8401e059",
   "metadata": {},
   "outputs": [
    {
     "name": "stdout",
     "output_type": "stream",
     "text": [
      "sigma   =  0.015760710643876435\n",
      "normal_two_sided_bounds   =  (0.5091095927295919, 0.5708904072704082)\n"
     ]
    }
   ],
   "source": [
    "def normal_upper_bound(probability, mu=0, sigma=1): \n",
    "    \"\"\"returns the z for which P(Z <= z) = probability\"\"\" \n",
    "    return inverse_normal_cdf(probability, mu, sigma)\n",
    "def normal_lower_bound(probability, mu=0, sigma=1): \n",
    "    \"\"\"returns the z for which P(Z >= z) = probability\"\"\" \n",
    "    return inverse_normal_cdf(1 - probability, mu, sigma)\n",
    "def normal_two_sided_bounds(probability, mu=0, sigma=1): \n",
    "    \"\"\"returns the symmetric (about the mean) bounds that contain the specified probability\"\"\" \n",
    "    tail_probability = (1 - probability) / 2\n",
    "    \n",
    "    # upper bound should have tail_probability above it\n",
    "    upper_bound = normal_lower_bound(tail_probability, mu, sigma) \n",
    "    # lower bound should have tail_probability below it\n",
    "    lower_bound = normal_upper_bound(tail_probability, mu, sigma) \n",
    "    return lower_bound, upper_bound\n",
    "p_hat = 540 / 1000\n",
    "mu = p_hat\n",
    "sigma = math.sqrt(p_hat * (1 - p_hat) / 1000) # 0.0158\n",
    "print (\"sigma   = \", sigma) \n",
    "value = normal_two_sided_bounds(0.95, mu, sigma) # [0.5091, 0.5709]\n",
    "print (\"normal_two_sided_bounds   = \", value) "
   ]
  },
  {
   "cell_type": "code",
   "execution_count": null,
   "id": "2602f9fc-0c08-4c67-9802-43c7c827940e",
   "metadata": {},
   "outputs": [],
   "source": []
  }
 ],
 "metadata": {
  "kernelspec": {
   "display_name": "Python 3 (ipykernel)",
   "language": "python",
   "name": "python3"
  },
  "language_info": {
   "codemirror_mode": {
    "name": "ipython",
    "version": 3
   },
   "file_extension": ".py",
   "mimetype": "text/x-python",
   "name": "python",
   "nbconvert_exporter": "python",
   "pygments_lexer": "ipython3",
   "version": "3.12.6"
  }
 },
 "nbformat": 4,
 "nbformat_minor": 5
}
