{
 "cells": [
  {
   "cell_type": "code",
   "execution_count": 12,
   "id": "097ebe96-2b86-47a0-b24c-07c35b7414e4",
   "metadata": {},
   "outputs": [
    {
     "name": "stdout",
     "output_type": "stream",
     "text": [
      "x 2\n",
      "y True\n",
      "z False\n"
     ]
    }
   ],
   "source": [
    "s = set()\n",
    "s.add(1) # s is now { 1 }\n",
    "s.add(2) # s is now { 1, 2 }\n",
    "s.add(2) # s is still { 1, 2 }\n",
    "x = len(s) # equals 2\n",
    "y = 2 in s # equals True\n",
    "z = 3 in s # equals False\n",
    "print (\"x\",x)\n",
    "print (\"y\",y)\n",
    "print (\"z\",z)"
   ]
  },
  {
   "cell_type": "code",
   "execution_count": 14,
   "id": "b8d18d4a-1a19-42e6-bb93-17c4710c32f8",
   "metadata": {},
   "outputs": [
    {
     "name": "stdout",
     "output_type": "stream",
     "text": [
      "'zip' in stopwords_list False\n",
      "'zip' in stopwords_set False\n"
     ]
    }
   ],
   "source": [
    "hundreds_of_other_words = [\"bee\",\"bank\",\"bus\",\"bill\",\"boot\",\"bat\",\"band\",\"bit\"]\n",
    "stopwords_list = [\"a\",\"an\",\"at\"] + hundreds_of_other_words + [\"yet\", \"you\"]\n",
    "\"zip\" in stopwords_list # False, but have to check every element\n",
    "print(\"'zip' in stopwords_list\",\"zip\" in stopwords_list)\n",
    "\n",
    "stopwords_set = set(stopwords_list)\n",
    "\"zip\" in stopwords_set # very fast to check\n",
    "print(\"'zip' in stopwords_set\", \"zip\" in stopwords_set)"
   ]
  },
  {
   "cell_type": "code",
   "execution_count": 15,
   "id": "5585dd92-8e3b-4680-a29f-118d30ba7c51",
   "metadata": {},
   "outputs": [
    {
     "name": "stdout",
     "output_type": "stream",
     "text": [
      "num_items 6\n",
      "item_set {1, 2, 3}\n",
      "num_distinct_items 3\n",
      "distinct_item_list [1, 2, 3]\n"
     ]
    }
   ],
   "source": [
    "item_list = [1, 2, 3, 1, 2, 3]\n",
    "num_items = len(item_list) # 6\n",
    "print ( \"num_items\", num_items )\n",
    "item_set = set(item_list) # {1, 2, 3}\n",
    "print ( \"item_set\", item_set )\n",
    "num_distinct_items = len(item_set) # 3\n",
    "print ( \"num_distinct_items\", num_distinct_items )\n",
    "distinct_item_list = list(item_set) # [1, 2, 3]\n",
    "print ( \"distinct_item_list\", distinct_item_list )\n"
   ]
  }
 ],
 "metadata": {
  "kernelspec": {
   "display_name": "Python 3 (ipykernel)",
   "language": "python",
   "name": "python3"
  },
  "language_info": {
   "codemirror_mode": {
    "name": "ipython",
    "version": 3
   },
   "file_extension": ".py",
   "mimetype": "text/x-python",
   "name": "python",
   "nbconvert_exporter": "python",
   "pygments_lexer": "ipython3",
   "version": "3.12.6"
  }
 },
 "nbformat": 4,
 "nbformat_minor": 5
}
