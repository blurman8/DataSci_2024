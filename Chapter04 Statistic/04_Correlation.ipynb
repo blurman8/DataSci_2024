{
 "cells": [
  {
   "cell_type": "code",
   "execution_count": 38,
   "id": "d5690190-a28e-4939-8596-a4d43216a512",
   "metadata": {},
   "outputs": [
    {
     "data": {
      "text/plain": [
       "-2.058926962626841e-28"
      ]
     },
     "execution_count": 38,
     "metadata": {},
     "output_type": "execute_result"
    }
   ],
   "source": [
    "num_friends = [100, 49, 41, 40, 25,\n",
    "               3, 4, 5, 6, 7, 8, 8, 8, 1, 3, 4, 5, 6, 7, 9, 9, 9, 1,\n",
    "               3, 4, 5, 6, 7, 10, 10, 10, 3, 4, 5, 6, 7, 8, 8, 8, 1,\n",
    "               3, 4, 5, 6, 7, 8, 8, 8, 2, 3, 4, 5, 6, 7, 9, 9, 9, 2,\n",
    "               3, 4, 5, 6, 7, 10, 10, 10, 3, 4, 5, 6, 7, 10, 10, 10,\n",
    "               3, 4, 5, 6, 7, 10, 10, 10, 3, 4, 5, 6, 7, 10, 10, 10,\n",
    "               3, 4, 5, 6, 7, 10, 10, 10, 3, 4, 5, 6, 7, 10, 10, 10,\n",
    "               3, 4, 5, 6, 7, 8, 8, 8, 1, 3, 4, 5, 6, 7, 9, 9, 9, 1,\n",
    "               13, 14, 15, 16, 17, 18, 18, 18, 18,\n",
    "               13, 14, 15, 16, 17, 18, 18, 18, 45,\n",
    "               13, 14, 15, 16, 17, 19, 19, 19, 46,\n",
    "               13, 14, 15, 16, 17, 18, 18, 18, 47,\n",
    "               13, 14, 15, 16, 17, 19, 19, 19, 49,\n",
    "               13, 14, 15, 16, 17, 10, 10, 10,\n",
    "               49, 41, 40, 25 ]\n",
    "daily_minutes = [ 1, 2, 3, 4, 5, 4, 3, 2, 1, 2, 3, 4, 5, 4, 3, 2, 1,\n",
    "                  1, 2, 3, 4, 5, 4, 3, 2, 1, 2, 3, 4, 5, 4, 3, 2, 1,\n",
    "                  1, 2, 3, 4, 5, 4, 3, 2, 1, 2, 3, 4, 5, 4, 3, 2, 1,\n",
    "                  1, 2, 3, 4, 5, 4, 3, 2, 1, 2, 3, 4, 5, 4, 3, 2, 1,\n",
    "                  1, 2, 3, 4, 5, 4, 3, 2, 1, 2, 3, 4, 5, 4, 3, 2, 1,\n",
    "                  1, 2, 3, 4, 5, 4, 3, 2, 1, 2, 3, 4, 5, 4, 3, 2, 1,\n",
    "                  1, 2, 3, 4, 5, 4, 3, 2, 1, 2, 3, 4, 5, 4, 3, 2, 1,\n",
    "                  1, 2, 3, 4, 5, 4, 3, 2, 1, 2, 3, 4, 5, 4, 3, 2, 1,\n",
    "                  1, 2, 3, 4, 5, 4, 3, 2, 1, 2, 3, 4, 5, 4, 3, 2, 1,\n",
    "                  1, 2, 3, 4, 5, 4, 3, 2, 1, 2, 3, 4, 5, 4, 3, 2, 1,\n",
    "                  1, 2, 3, 4, 5, 4, 3, 2, 1, 2, 3]\n",
    "def mean(x):\n",
    "    return sum(x) / len(x)\n",
    "def de_mean(x):\n",
    "    \"\"\"translate x by subtracting its mean (so the result has mean 0)\"\"\" \n",
    "    x_bar = mean(x)\n",
    "    return [x_i - x_bar for x_i in x]\n",
    "\n",
    " \n",
    "\n",
    "def covariance(x, y):\n",
    "    n = len(x)\n",
    "    sum_xy = 0\n",
    "    mean_x = mean(x)\n",
    "    mean_y = mean(y)\n",
    "     \n",
    "    for i in range(10) :\n",
    "        sum_xy += (x[i] - mean_x ) * (y[i] - mean_y)\n",
    "\n",
    "    sumx = 0;\n",
    "    for i in de_mean(x) :\n",
    "        sumx += i\n",
    "    sumy = 0;\n",
    "    for i in de_mean(y) :\n",
    "        sumy += i\n",
    "        \n",
    "    sum_xy = (sumx * sumy) / (n-1)\n",
    "    return sum_xy\n",
    "\n",
    "covariance(num_friends, daily_minutes) # -2.0589"
   ]
  },
  {
   "cell_type": "code",
   "execution_count": 40,
   "id": "784f72a4-47d3-4d70-834d-8f5429f39b57",
   "metadata": {},
   "outputs": [
    {
     "name": "stdout",
     "output_type": "stream",
     "text": [
      "correlation(num_friends, daily_minutes) =  -1.377323955627284e-29\n"
     ]
    }
   ],
   "source": [
    "import math\n",
    "\n",
    "def sum_of_squares (l) :\n",
    "    return sum(i*i for i in l)\n",
    "\n",
    "def variance(x):\n",
    "    \"\"\"assumes x has at least two elements\"\"\"\n",
    "    n = len(x)\n",
    "    deviations = de_mean(x)\n",
    "    return sum_of_squares(deviations) / (n - 1)\n",
    "\n",
    "def standard_deviation(x):\n",
    "    return math.sqrt(variance(x))\n",
    "\n",
    "def correlation(x, y):\n",
    "    stdev_x = standard_deviation(x)\n",
    "    stdev_y = standard_deviation(y)\n",
    "    if stdev_x > 0 and stdev_y > 0:\n",
    "        return covariance(x, y) / stdev_x / stdev_y\n",
    "    else:\n",
    "        return 0 # if no variation, correlation is zero\n",
    "\n",
    " \n",
    "print ( \"correlation(num_friends, daily_minutes) = \", correlation(num_friends, daily_minutes) ); # -1.377\n"
   ]
  },
  {
   "cell_type": "code",
   "execution_count": 42,
   "id": "9903776b-8acd-4b1a-851b-b76fbc4efd01",
   "metadata": {},
   "outputs": [
    {
     "name": "stdout",
     "output_type": "stream",
     "text": [
      "correlation(num_friends_good, daily_minutes_good) =  -5.752117223519209e-30\n"
     ]
    }
   ],
   "source": [
    "outlier = num_friends.index(100) # index of outlier\n",
    "num_friends_good = [x\n",
    "                    for i, x in enumerate(num_friends)\n",
    "                    if i != outlier]\n",
    "daily_minutes_good = [x\n",
    "                    for i, x in enumerate(daily_minutes)\n",
    "                    if i != outlier]\n",
    "\n",
    "correlation(num_friends_good, daily_minutes_good) # -5.752\n",
    "print ( \"correlation(num_friends_good, daily_minutes_good) = \", correlation(num_friends_good, daily_minutes_good) )\n",
    "\n",
    "\n"
   ]
  },
  {
   "cell_type": "code",
   "execution_count": null,
   "id": "09fafe4e-385e-4bb7-a50b-218922dcd588",
   "metadata": {},
   "outputs": [],
   "source": []
  }
 ],
 "metadata": {
  "kernelspec": {
   "display_name": "Python 3 (ipykernel)",
   "language": "python",
   "name": "python3"
  },
  "language_info": {
   "codemirror_mode": {
    "name": "ipython",
    "version": 3
   },
   "file_extension": ".py",
   "mimetype": "text/x-python",
   "name": "python",
   "nbconvert_exporter": "python",
   "pygments_lexer": "ipython3",
   "version": "3.11.6"
  }
 },
 "nbformat": 4,
 "nbformat_minor": 5
}
