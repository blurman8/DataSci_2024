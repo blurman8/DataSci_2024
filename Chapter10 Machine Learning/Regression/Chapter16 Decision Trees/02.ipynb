{
 "cells": [
  {
   "cell_type": "code",
   "execution_count": 2,
   "id": "718fcec2-0d9f-4f67-bcd7-fbadd2a4b99c",
   "metadata": {},
   "outputs": [
    {
     "name": "stdout",
     "output_type": "stream",
     "text": [
      "True\n",
      "True\n",
      "True\n"
     ]
    }
   ],
   "source": [
    "from typing import List\n",
    "import math\n",
    "def entropy(class_probabilities: List[float]) -> float:\n",
    "    \"\"\"Given a list of class probabilities, compute the entropy\"\"\"\n",
    "    return sum(-p * math.log(p, 2)\n",
    "        for p in class_probabilities\n",
    "        if p > 0) # ignore zero probabilities\n",
    "print (entropy([1.0]) == 0)\n",
    "print (entropy([0.5, 0.5]) == 1)\n",
    "print (0.81 < entropy([0.25, 0.75]) < 0.82)"
   ]
  },
  {
   "cell_type": "code",
   "execution_count": 3,
   "id": "d5a9b823-b915-4ab5-bc34-3022ed24ca9f",
   "metadata": {},
   "outputs": [
    {
     "name": "stdout",
     "output_type": "stream",
     "text": [
      "True\n",
      "True\n",
      "True\n"
     ]
    }
   ],
   "source": [
    "from typing import Any\n",
    "from collections import Counter\n",
    "def class_probabilities(labels: List[Any]) -> List[float]:\n",
    "    total_count = len(labels)\n",
    "    return [count / total_count\n",
    "        for count in Counter(labels).values()]\n",
    "def data_entropy(labels: List[Any]) -> float:\n",
    "    return entropy(class_probabilities(labels))\n",
    "print ( data_entropy(['a']) == 0 )\n",
    "print ( data_entropy([True, False]) == 1 )\n",
    "print ( data_entropy([3, 4, 4, 4]) == entropy([0.25, 0.75]) )"
   ]
  },
  {
   "cell_type": "code",
   "execution_count": 5,
   "id": "ad6274d4-49f7-4f58-bbe6-56536cb64e80",
   "metadata": {},
   "outputs": [],
   "source": [
    "def partition_entropy(subsets: List[List[Any]]) -> float:\n",
    "    \"\"\"Returns the entropy from this partition of data into subsets\"\"\"\n",
    "    total_count = sum(len(subset) for subset in subsets)\n",
    "    return sum(data_entropy(subset) * len(subset) / total_count\n",
    "            for subset in subsets)\n",
    "\n"
   ]
  },
  {
   "cell_type": "code",
   "execution_count": 6,
   "id": "cfd4d6d4-9995-4c0f-9a82-22f29674b120",
   "metadata": {},
   "outputs": [],
   "source": [
    "from typing import NamedTuple, Optional\n",
    "class Candidate(NamedTuple):\n",
    "    level: str\n",
    "    lang: str\n",
    "    tweets: bool\n",
    "    phd: bool\n",
    "    did_well: Optional[bool] = None # allow unlabeled data\n",
    "    # level lang tweets phd did_well\n",
    "inputs = [Candidate('Senior', 'Java', False, False, False),\n",
    "    Candidate('Senior', 'Java', False, True, False),\n",
    "    Candidate('Mid', 'Python', False, False, True),\n",
    "    Candidate('Junior', 'Python', False, False, True),\n",
    "    Candidate('Junior', 'R', True, False, True),\n",
    "    Candidate('Junior', 'R', True, True, False),\n",
    "    Candidate('Mid', 'R', True, True, True),\n",
    "    Candidate('Senior', 'Python', False, False, False),\n",
    "    Candidate('Senior', 'R', True, False, True),\n",
    "    Candidate('Junior', 'Python', True, False, True),\n",
    "    Candidate('Senior', 'Python', True, True, True),\n",
    "    Candidate('Mid', 'Python', False, True, True),\n",
    "    Candidate('Mid', 'Java', True, False, True),\n",
    "    Candidate('Junior', 'Python', False, True, False)\n",
    "    ]"
   ]
  },
  {
   "cell_type": "code",
   "execution_count": 7,
   "id": "257987bd-b331-4a01-bc6c-5f68ca0bf453",
   "metadata": {},
   "outputs": [],
   "source": [
    "from typing import Dict, TypeVar\n",
    "from collections import defaultdict\n",
    "T = TypeVar('T') # generic type for inputs\n",
    "def partition_by(inputs: List[T], attribute: str) -> Dict[Any, List[T]]:\n",
    "    \"\"\"Partition the inputs into lists based on the specified attribute.\"\"\"\n",
    "    partitions: Dict[Any, List[T]] = defaultdict(list)\n",
    "    for input in inputs:\n",
    "        key = getattr(input, attribute) # value of the specified attribute\n",
    "        partitions[key].append(input) # add input to the correct partition\n",
    "    return partitions"
   ]
  },
  {
   "cell_type": "code",
   "execution_count": 8,
   "id": "f659456a-cbb0-41ce-910c-8f0123ace566",
   "metadata": {},
   "outputs": [
    {
     "name": "stdout",
     "output_type": "stream",
     "text": [
      "level 0.6935361388961919\n",
      "lang 0.8601317128547441\n",
      "tweets 0.7884504573082896\n",
      "phd 0.8921589282623617\n",
      "True\n",
      "True\n",
      "True\n",
      "True\n"
     ]
    }
   ],
   "source": [
    "def partition_entropy_by(inputs: List[Any],\n",
    "                            attribute: str,\n",
    "                            label_attribute: str) -> float:\n",
    "    \"\"\"Compute the entropy corresponding to the given partition\"\"\"\n",
    "    # partitions consist of our inputs\n",
    "    partitions = partition_by(inputs, attribute)\n",
    "    # but partition_entropy needs just the class labels\n",
    "    labels = [[getattr(input, label_attribute) for input in partition]\n",
    "                for partition in partitions.values()]\n",
    "    return partition_entropy(labels)\n",
    "\n",
    "for key in ['level','lang','tweets','phd']:\n",
    "    print(key, partition_entropy_by(inputs, key, 'did_well'))\n",
    "    \n",
    "print (  0.69 < partition_entropy_by(inputs, 'level', 'did_well') < 0.70 )\n",
    "print (  0.86 < partition_entropy_by(inputs, 'lang', 'did_well') < 0.87 )\n",
    "print (  0.78 < partition_entropy_by(inputs, 'tweets', 'did_well') < 0.79 )\n",
    "print (  0.89 < partition_entropy_by(inputs, 'phd', 'did_well') < 0.90 )"
   ]
  },
  {
   "cell_type": "code",
   "execution_count": 9,
   "id": "b72934fc-0336-43d3-8d53-f37e4c3b3a42",
   "metadata": {},
   "outputs": [
    {
     "name": "stdout",
     "output_type": "stream",
     "text": [
      "True\n",
      "True\n",
      "True\n"
     ]
    }
   ],
   "source": [
    "senior_inputs = [input for input in inputs if input.level == 'Senior']\n",
    "print (  0.4 == partition_entropy_by(senior_inputs, 'lang', 'did_well') )\n",
    "print (  0.0 == partition_entropy_by(senior_inputs, 'tweets', 'did_well') )\n",
    "print (  0.95 < partition_entropy_by(senior_inputs, 'phd', 'did_well') < 0.96 )"
   ]
  },
  {
   "cell_type": "code",
   "execution_count": 11,
   "id": "04929cb0-2c53-4249-9fbe-6ba9481002ae",
   "metadata": {},
   "outputs": [
    {
     "name": "stdout",
     "output_type": "stream",
     "text": [
      "True\n",
      "True\n"
     ]
    }
   ],
   "source": [
    "from typing import NamedTuple, Union, Any\n",
    "class Leaf(NamedTuple):\n",
    "    value: Any\n",
    "class Split(NamedTuple):\n",
    "    attribute: str\n",
    "    subtrees: dict\n",
    "    default_value: Any = None\n",
    "DecisionTree = Union[Leaf, Split]\n",
    "\n",
    "hiring_tree = Split('level', { # first, consider \"level\"\n",
    "    'Junior': Split('phd', { # if level is \"Junior\", next look at \"phd\"\n",
    "        False: Leaf(True), # if \"phd\" is False, predict True\n",
    "        True: Leaf(False) # if \"phd\" is True, predict False\n",
    "    }),\n",
    "    'Mid': Leaf(True), # if level is \"Mid\", just predict True\n",
    "    'Senior': Split('tweets', { # if level is \"Senior\", look at \"tweets\"\n",
    "        False: Leaf(False), # if \"tweets\" is False, predict False\n",
    "        True: Leaf(True) # if \"tweets\" is True, predict True\n",
    "    })\n",
    "}) \n",
    "\n",
    "def classify(tree: DecisionTree, input: Any) -> Any:\n",
    "    \"\"\"classify the input using the given decision tree\"\"\"\n",
    "    # If this is a leaf node, return its value\n",
    "    if isinstance(tree, Leaf):\n",
    "        return tree.value\n",
    "    # Otherwise this tree consists of an attribute to split on\n",
    "    # and a dictionary whose keys are values of that attribute\n",
    "    # and whose values are subtrees to consider next\n",
    "    subtree_key = getattr(input, tree.attribute)\n",
    "    if subtree_key not in tree.subtrees: # If no subtree for key,\n",
    "        return tree.default_value # return the default value.\n",
    "    subtree = tree.subtrees[subtree_key] # Choose the appropriate subtree\n",
    "    return classify(subtree, input) # and use it to classify the input.\n",
    "\n",
    "def build_tree_id3(inputs: List[Any],\n",
    "                    split_attributes: List[str],\n",
    "                    target_attribute: str) -> DecisionTree:\n",
    "    # Count target labels\n",
    "    label_counts = Counter(getattr(input, target_attribute)\n",
    "                            for input in inputs)\n",
    "    most_common_label = label_counts.most_common(1)[0][0]\n",
    "    # If there's a unique label, predict it\n",
    "    if len(label_counts) == 1:\n",
    "        return Leaf(most_common_label)\n",
    "    # If no split attributes left, return the majority label\n",
    "    if not split_attributes:\n",
    "        return Leaf(most_common_label)\n",
    "    # Otherwise split by the best attribute\n",
    "    def split_entropy(attribute: str) -> float:\n",
    "        \"\"\"Helper function for finding the best attribute\"\"\"\n",
    "        return partition_entropy_by(inputs, attribute, target_attribute)\n",
    "    best_attribute = min(split_attributes, key=split_entropy)\n",
    "    partitions = partition_by(inputs, best_attribute)\n",
    "    new_attributes = [a for a in split_attributes if a != best_attribute]\n",
    "    # Recursively build the subtrees\n",
    "    subtrees = {attribute_value : build_tree_id3(subset,\n",
    "                                                new_attributes,\n",
    "                                                target_attribute)\n",
    "                for attribute_value, subset in partitions.items()}\n",
    "    return Split(best_attribute, subtrees, default_value=most_common_label)\n",
    "tree = build_tree_id3(inputs,\n",
    "                        ['level', 'lang', 'tweets', 'phd'],'did_well')\n",
    "# Should predict True\n",
    "print ( classify(tree, Candidate(\"Junior\", \"Java\", True, False)) )\n",
    "# Should predict False\n",
    "print ( not classify(tree, Candidate(\"Junior\", \"Java\", True, True)) )"
   ]
  },
  {
   "cell_type": "code",
   "execution_count": 12,
   "id": "60bc79f5-da36-406e-8204-e44b4d0eaaed",
   "metadata": {},
   "outputs": [
    {
     "ename": "NameError",
     "evalue": "name 'split_candidates' is not defined",
     "output_type": "error",
     "traceback": [
      "\u001b[1;31m---------------------------------------------------------------------------\u001b[0m",
      "\u001b[1;31mNameError\u001b[0m                                 Traceback (most recent call last)",
      "Cell \u001b[1;32mIn[12], line 2\u001b[0m\n\u001b[0;32m      1\u001b[0m \u001b[38;5;66;03m# if there are already few enough split candidates, look at all of them\u001b[39;00m\n\u001b[1;32m----> 2\u001b[0m \u001b[38;5;28;01mif\u001b[39;00m \u001b[38;5;28mlen\u001b[39m(\u001b[43msplit_candidates\u001b[49m) \u001b[38;5;241m<\u001b[39m\u001b[38;5;241m=\u001b[39m \u001b[38;5;28mself\u001b[39m\u001b[38;5;241m.\u001b[39mnum_split_candidates:\n\u001b[0;32m      3\u001b[0m     sampled_split_candidates \u001b[38;5;241m=\u001b[39m split_candidates\n\u001b[0;32m      4\u001b[0m \u001b[38;5;66;03m# otherwise pick a random sample\u001b[39;00m\n\u001b[0;32m      5\u001b[0m \u001b[38;5;28;01melse\u001b[39;00m:\n",
      "\u001b[1;31mNameError\u001b[0m: name 'split_candidates' is not defined"
     ]
    }
   ],
   "source": [
    " "
   ]
  },
  {
   "cell_type": "code",
   "execution_count": null,
   "id": "6deb4b5e-7dfa-4950-aa7c-923e1c0fa400",
   "metadata": {},
   "outputs": [],
   "source": []
  }
 ],
 "metadata": {
  "kernelspec": {
   "display_name": "Python 3 (ipykernel)",
   "language": "python",
   "name": "python3"
  },
  "language_info": {
   "codemirror_mode": {
    "name": "ipython",
    "version": 3
   },
   "file_extension": ".py",
   "mimetype": "text/x-python",
   "name": "python",
   "nbconvert_exporter": "python",
   "pygments_lexer": "ipython3",
   "version": "3.12.6"
  }
 },
 "nbformat": 4,
 "nbformat_minor": 5
}
