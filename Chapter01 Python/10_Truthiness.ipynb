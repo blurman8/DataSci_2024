{
 "cells": [
  {
   "cell_type": "code",
   "execution_count": 1,
   "id": "5b8858f8-f2d6-4e31-beae-5ba4c49c2032",
   "metadata": {},
   "outputs": [
    {
     "name": "stdout",
     "output_type": "stream",
     "text": [
      "True\n",
      "False\n"
     ]
    }
   ],
   "source": [
    "one_is_less_than_two = 1 < 2 # equals True\n",
    "print ( \"one_is_less_than_two\", one_is_less_than_two )\n",
    "\n",
    "true_equals_false = True == False # equals False\n",
    "print ( \"true_equals_false\", true_equals_false )"
   ]
  },
  {
   "cell_type": "code",
   "execution_count": 15,
   "id": "4b1114c0-2cfa-49c6-a9af-1b78c48469c6",
   "metadata": {},
   "outputs": [
    {
     "name": "stdout",
     "output_type": "stream",
     "text": [
      "None\n",
      "(x) == None True\n",
      "None\n",
      "(x) is None  True\n"
     ]
    }
   ],
   "source": [
    "x = None\n",
    "print (x) == None # prints True, but is not Pythonic\n",
    "print (\"(x) == None\", (x) == None )\n",
    "print (x) is None # prints True, and is Pythonic\n",
    "print (\"(x) is None \",(x) is None )\n"
   ]
  },
  {
   "cell_type": "code",
   "execution_count": 14,
   "id": "ad51e2a0-1b7a-45a0-a2eb-a0365f20a822",
   "metadata": {},
   "outputs": [
    {
     "name": "stdout",
     "output_type": "stream",
     "text": [
      "first_char b\n",
      "safe_x 0\n"
     ]
    }
   ],
   "source": [
    "s = \"book\"\n",
    "first_char = s and s[0]\n",
    "print(\"first_char\",first_char)\n",
    "\n",
    "safe_x = x or 0\n",
    "print(\"safe_x\",safe_x)"
   ]
  },
  {
   "cell_type": "code",
   "execution_count": 13,
   "id": "bf9ab235-8650-4bc0-9643-de62e54ef7f6",
   "metadata": {},
   "outputs": [
    {
     "name": "stdout",
     "output_type": "stream",
     "text": [
      "all([True, 1, { 3 }]) True\n",
      "all([True, 1, {}]) False\n",
      "any([True, 1, {}]) True\n",
      "all([]) True\n",
      "any([]) False\n"
     ]
    }
   ],
   "source": [
    "all([True, 1, { 3 }]) # True\n",
    "print ( \"all([True, 1, { 3 }])\", all([True, 1, { 3 }]) )\n",
    "all([True, 1, {}]) # False, {} is falsy\n",
    "print ( \"all([True, 1, {}])\", all([True, 1, {}]) )\n",
    "any([True, 1, {}]) # True, True is truthy\n",
    "print ( \"any([True, 1, {}])\", any([True, 1, {}]) )\n",
    "all([]) # True, no falsy elements in the list\n",
    "print ( \"all([])\", all([]) )\n",
    "any([]) # False, no truthy elements in the list\n",
    "print ( \"any([])\", any([]) )"
   ]
  },
  {
   "cell_type": "code",
   "execution_count": null,
   "id": "5ac3f95d-236c-416d-ac37-fac20660902f",
   "metadata": {},
   "outputs": [],
   "source": []
  }
 ],
 "metadata": {
  "kernelspec": {
   "display_name": "Python 3 (ipykernel)",
   "language": "python",
   "name": "python3"
  },
  "language_info": {
   "codemirror_mode": {
    "name": "ipython",
    "version": 3
   },
   "file_extension": ".py",
   "mimetype": "text/x-python",
   "name": "python",
   "nbconvert_exporter": "python",
   "pygments_lexer": "ipython3",
   "version": "3.12.6"
  }
 },
 "nbformat": 4,
 "nbformat_minor": 5
}
