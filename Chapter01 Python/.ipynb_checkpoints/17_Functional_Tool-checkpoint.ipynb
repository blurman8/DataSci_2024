{
 "cells": [
  {
   "cell_type": "code",
   "execution_count": 2,
   "id": "e5fe242b-4966-4a2b-874b-852dc0c6e7f9",
   "metadata": {},
   "outputs": [
    {
     "name": "stdout",
     "output_type": "stream",
     "text": [
      "two_to_the(3)   8\n"
     ]
    }
   ],
   "source": [
    "def exp(base, power):\n",
    "    return base ** power\n",
    "\n",
    "def two_to_the(power):\n",
    "    return exp(2, power)\n",
    "\n",
    "from functools import partial\n",
    "two_to_the = partial(exp, 2) # is now a function of one variable\n",
    "print (\"two_to_the(3)  \",two_to_the(3)) # 8"
   ]
  },
  {
   "cell_type": "code",
   "execution_count": 26,
   "id": "e74cfb41-36b6-404f-a638-c45c21d549bd",
   "metadata": {},
   "outputs": [
    {
     "name": "stdout",
     "output_type": "stream",
     "text": [
      "twice_xs     [2, 4, 6, 8]\n",
      "list(twice_xs)     [2, 4, 6, 8]\n"
     ]
    },
    {
     "ename": "TypeError",
     "evalue": "f() takes 1 positional argument but 2 were given",
     "output_type": "error",
     "traceback": [
      "\u001b[0;31m---------------------------------------------------------------------------\u001b[0m",
      "\u001b[0;31mTypeError\u001b[0m                                 Traceback (most recent call last)",
      "Cell \u001b[0;32mIn[26], line 22\u001b[0m\n\u001b[1;32m     19\u001b[0m g \u001b[38;5;241m=\u001b[39m partial(f, \u001b[38;5;241m3\u001b[39m )\n\u001b[1;32m     21\u001b[0m \u001b[38;5;66;03m# Calling g()\u001b[39;00m\n\u001b[0;32m---> 22\u001b[0m \u001b[38;5;28mprint\u001b[39m(\u001b[43mg\u001b[49m\u001b[43m(\u001b[49m\u001b[38;5;241;43m5\u001b[39;49m\u001b[43m)\u001b[49m)\n\u001b[1;32m     24\u001b[0m list_doubler \u001b[38;5;241m=\u001b[39m partial(double, xs) \u001b[38;5;66;03m# *function* that doubles a list\u001b[39;00m\n\u001b[1;32m     25\u001b[0m \u001b[38;5;28mprint\u001b[39m (\u001b[38;5;124m\"\u001b[39m\u001b[38;5;124mlist(list_doubler)    \u001b[39m\u001b[38;5;124m\"\u001b[39m, list_doubler )\n",
      "\u001b[0;31mTypeError\u001b[0m: f() takes 1 positional argument but 2 were given"
     ]
    }
   ],
   "source": [
    "from functools import partial\n",
    "\n",
    "def double(x):\n",
    "    return 2 * x\n",
    "    \n",
    "xs = [1, 2, 3, 4]\n",
    "twice_xs = [double(x) for x in xs] # [2, 4, 6, 8]\n",
    "print (\"twice_xs    \",twice_xs )\n",
    "\n",
    "twice_xs = map(double, xs) # same as above\n",
    "print (\"list(twice_xs)    \",list(twice_xs) )\n",
    "\n",
    "# A normal function\n",
    "def f(x):\n",
    "    return 2 * x\n",
    "\n",
    "# A partial function that calls f with\n",
    "# a as 3, b as 1 and c as 4.\n",
    "g = partial(f, 3, 1, 4)\n",
    "\n",
    "# Calling g()\n",
    "print(g(5))\n",
    " \n",
    "list_doubler = partial(double, xs) # *function* that doubles a list\n",
    "print (\"list(list_doubler)    \", list_doubler )\n",
    "\n",
    "#twice_xs = list_doubler(xs) # again [2, 4, 6, 8]\n",
    "#print (\"twice_xs    \",twice_xs )\n"
   ]
  },
  {
   "cell_type": "code",
   "execution_count": null,
   "id": "5872349e-e7a7-4dd9-8675-55bc517f06da",
   "metadata": {},
   "outputs": [],
   "source": []
  }
 ],
 "metadata": {
  "kernelspec": {
   "display_name": "Python 3 (ipykernel)",
   "language": "python",
   "name": "python3"
  },
  "language_info": {
   "codemirror_mode": {
    "name": "ipython",
    "version": 3
   },
   "file_extension": ".py",
   "mimetype": "text/x-python",
   "name": "python",
   "nbconvert_exporter": "python",
   "pygments_lexer": "ipython3",
   "version": "3.12.6"
  }
 },
 "nbformat": 4,
 "nbformat_minor": 5
}
