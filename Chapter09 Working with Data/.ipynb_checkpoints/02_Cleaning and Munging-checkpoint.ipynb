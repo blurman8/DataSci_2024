{
 "cells": [
  {
   "cell_type": "code",
   "execution_count": 48,
   "id": "d5f6f566-6dfc-48b9-a0bd-d8b588d2d77b",
   "metadata": {},
   "outputs": [
    {
     "name": "stdout",
     "output_type": "stream",
     "text": [
      "[datetime.datetime(2014, 6, 20, 0, 0), None, 90.91]\n",
      "[datetime.datetime(2014, 6, 20, 0, 0), None, 41.68]\n",
      "[datetime.datetime(3014, 6, 20, 0, 0), None, 64.5]\n",
      "[datetime.datetime(2014, 6, 19, 0, 0), None, 91.86]\n",
      "[datetime.datetime(2014, 6, 19, 0, 0), None, 45.2]\n",
      "[datetime.datetime(2014, 6, 19, 0, 0), None, 64.34]\n"
     ]
    }
   ],
   "source": [
    "import dateutil.parser\n",
    "import csv\n",
    "\n",
    "def parse_row(input_row, parsers) :\n",
    "    return [try_or_none(parser)(value) if parser is not None  else value\n",
    "            for value, parser in zip(input_row, parsers)]\n",
    "\n",
    "def parse_rows_with(reader, parsers):\n",
    "    \"\"\"wrap a reader to apply the parsers to each of its rows\"\"\"\n",
    "    for row in reader:\n",
    "        yield parse_row(row, parsers)\n",
    "\n",
    "\n",
    "def try_or_none(f):\n",
    "    \"\"\"wraps f to return None if f raises an exception\n",
    "    assumes f takes only one input\"\"\"\n",
    "    def f_or_none(x):\n",
    "        try: return f(x)\n",
    "        except: return None\n",
    "    return f_or_none\n",
    "\n",
    "\n",
    "\n",
    "data = []\n",
    "with open(\"comma_delimited_stock_prices.csv\", \"r\") as f:\n",
    "    reader = csv.reader(f)\n",
    "    for line in parse_rows_with(reader, [dateutil.parser.parse, \n",
    "                                         not None, float]):\n",
    "        data.append(line)\n",
    "for row in data:\n",
    "    if any(x is  None for x in row):\n",
    "        print (row)\n"
   ]
  },
  {
   "cell_type": "code",
   "execution_count": null,
   "id": "25874102-50d4-4f68-9dd3-43e50336cf9b",
   "metadata": {},
   "outputs": [],
   "source": []
  }
 ],
 "metadata": {
  "kernelspec": {
   "display_name": "Python 3 (ipykernel)",
   "language": "python",
   "name": "python3"
  },
  "language_info": {
   "codemirror_mode": {
    "name": "ipython",
    "version": 3
   },
   "file_extension": ".py",
   "mimetype": "text/x-python",
   "name": "python",
   "nbconvert_exporter": "python",
   "pygments_lexer": "ipython3",
   "version": "3.12.6"
  }
 },
 "nbformat": 4,
 "nbformat_minor": 5
}
