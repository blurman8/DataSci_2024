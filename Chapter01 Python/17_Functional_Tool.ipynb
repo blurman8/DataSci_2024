{
 "cells": [
  {
   "cell_type": "code",
   "execution_count": 2,
   "id": "e5fe242b-4966-4a2b-874b-852dc0c6e7f9",
   "metadata": {},
   "outputs": [
    {
     "name": "stdout",
     "output_type": "stream",
     "text": [
      "two_to_the(3)   8\n"
     ]
    }
   ],
   "source": [
    "def exp(base, power):\n",
    "    return base ** power\n",
    "\n",
    "def two_to_the(power):\n",
    "    return exp(2, power)\n",
    "\n",
    "from functools import partial\n",
    "two_to_the = partial(exp, 2) # is now a function of one variable\n",
    "print (\"two_to_the(3)  \",two_to_the(3)) # 8"
   ]
  },
  {
   "cell_type": "code",
   "execution_count": 35,
   "id": "e74cfb41-36b6-404f-a638-c45c21d549bd",
   "metadata": {},
   "outputs": [
    {
     "name": "stdout",
     "output_type": "stream",
     "text": [
      "twice_xs     [2, 4, 6, 8]\n",
      "list(twice_xs)     [2, 4, 6, 8]\n"
     ]
    }
   ],
   "source": [
    "from functools import partial\n",
    "\n",
    "def double(x):\n",
    "    return 2 * x\n",
    "    \n",
    "xs = [1, 2, 3, 4]\n",
    "twice_xs = [double(x) for x in xs] # [2, 4, 6, 8]\n",
    "print (\"twice_xs    \",twice_xs )\n",
    "\n",
    "twice_xs = map(double, xs) # same as above\n",
    "print (\"list(twice_xs)    \",list(twice_xs) )\n",
    "\n",
    "\n"
   ]
  },
  {
   "cell_type": "code",
   "execution_count": 36,
   "id": "5872349e-e7a7-4dd9-8675-55bc517f06da",
   "metadata": {},
   "outputs": [
    {
     "name": "stdout",
     "output_type": "stream",
     "text": [
      "dbl    8\n"
     ]
    }
   ],
   "source": [
    "def multiply(x, y):\n",
    "    return x * y\n",
    "\n",
    "# create a new function that multiplies by 2\n",
    "dbl = partial(multiply, 2) \n",
    "print( \"dbl   \", dbl(4))"
   ]
  },
  {
   "cell_type": "code",
   "execution_count": null,
   "id": "69134620-4d50-409c-a3be-20a2684e17af",
   "metadata": {},
   "outputs": [],
   "source": []
  }
 ],
 "metadata": {
  "kernelspec": {
   "display_name": "Python 3 (ipykernel)",
   "language": "python",
   "name": "python3"
  },
  "language_info": {
   "codemirror_mode": {
    "name": "ipython",
    "version": 3
   },
   "file_extension": ".py",
   "mimetype": "text/x-python",
   "name": "python",
   "nbconvert_exporter": "python",
   "pygments_lexer": "ipython3",
   "version": "3.12.6"
  }
 },
 "nbformat": 4,
 "nbformat_minor": 5
}
