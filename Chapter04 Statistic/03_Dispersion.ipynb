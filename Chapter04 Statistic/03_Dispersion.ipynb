{
 "cells": [
  {
   "cell_type": "code",
   "execution_count": 2,
   "id": "4b74207b-3c2f-4a33-8012-fbd9aa8dd965",
   "metadata": {},
   "outputs": [
    {
     "name": "stdout",
     "output_type": "stream",
     "text": [
      "data_range(num_friends)  = 99\n"
     ]
    }
   ],
   "source": [
    "num_friends = [100, 49, 41, 40, 25,\n",
    "               3, 4, 5, 6, 7, 8, 8, 8, 1, 3, 4, 5, 6, 7, 9, 9, 9, 1,\n",
    "               3, 4, 5, 6, 7, 10, 10, 10, 3, 4, 5, 6, 7, 8, 8, 8, 1,\n",
    "               3, 4, 5, 6, 7, 8, 8, 8, 2, 3, 4, 5, 6, 7, 9, 9, 9, 2,\n",
    "               3, 4, 5, 6, 7, 10, 10, 10, 3, 4, 5, 6, 7, 10, 10, 10,\n",
    "               3, 4, 5, 6, 7, 10, 10, 10, 3, 4, 5, 6, 7, 10, 10, 10,\n",
    "               3, 4, 5, 6, 7, 10, 10, 10, 3, 4, 5, 6, 7, 10, 10, 10,\n",
    "               3, 4, 5, 6, 7, 8, 8, 8, 1, 3, 4, 5, 6, 7, 9, 9, 9, 1,\n",
    "               13, 14, 15, 16, 17, 18, 18, 18, 18,\n",
    "               13, 14, 15, 16, 17, 18, 18, 18, 45,\n",
    "               13, 14, 15, 16, 17, 19, 19, 19, 46,\n",
    "               13, 14, 15, 16, 17, 18, 18, 18, 47,\n",
    "               13, 14, 15, 16, 17, 19, 19, 19, 49,\n",
    "               13, 14, 15, 16, 17, 10, 10, 10,\n",
    "               49, 41, 40, 25 ]\n",
    "# \"range\" already means something in Python, so we'll use a different name\n",
    "def data_range(x):\n",
    "    return max(x) - min(x)\n",
    "data_range(num_friends) # 99\n",
    "print (\"data_range(num_friends)  =\" ,  data_range(num_friends) )\n",
    "\n"
   ]
  },
  {
   "cell_type": "code",
   "execution_count": 10,
   "id": "9b44f70b-b379-4c10-80c5-d00f981685c7",
   "metadata": {},
   "outputs": [
    {
     "data": {
      "text/plain": [
       "136.77937384898712"
      ]
     },
     "execution_count": 10,
     "metadata": {},
     "output_type": "execute_result"
    }
   ],
   "source": [
    "def mean(x):\n",
    "    return sum(x) / len(x)\n",
    "def de_mean(x):\n",
    "    \"\"\"translate x by subtracting its mean (so the result has mean 0)\"\"\"\n",
    "    x_bar = mean(x)\n",
    "    return [x_i - x_bar for x_i in x]\n",
    "def sum_of_squares (l) :\n",
    "    return sum(i*i for i in l)\n",
    "def variance(x):\n",
    "    \"\"\"assumes x has at least two elements\"\"\"\n",
    "    n = len(x)\n",
    "    deviations = de_mean(x)\n",
    "    return sum_of_squares(deviations) / (n - 1)\n",
    "\n",
    "variance(num_friends) # 136.779 \n",
    "\n",
    "\n"
   ]
  },
  {
   "cell_type": "code",
   "execution_count": 14,
   "id": "f8252a2c-78ca-4fb8-a8ed-fcda69212618",
   "metadata": {},
   "outputs": [
    {
     "data": {
      "text/plain": [
       "11.695271431180515"
      ]
     },
     "execution_count": 14,
     "metadata": {},
     "output_type": "execute_result"
    }
   ],
   "source": [
    "import math\n",
    "def standard_deviation(x):\n",
    "    return math.sqrt(variance(x))\n",
    "\n",
    "standard_deviation(num_friends) # 11.695 \n",
    "\n",
    "\n"
   ]
  },
  {
   "cell_type": "code",
   "execution_count": 18,
   "id": "0e08aabc-3291-473a-b092-9f021ee684dd",
   "metadata": {},
   "outputs": [
    {
     "name": "stdout",
     "output_type": "stream",
     "text": [
      "quantile(num_friends, 0.25) = 5\n",
      "quantile(num_friends, 0.75) = 15\n",
      "interquartile_range(num_friends) = 10\n"
     ]
    }
   ],
   "source": [
    "def quantile(x, p):\n",
    "    \"\"\"returns the pth-percentile value in x\"\"\"\n",
    "    p_index = int(p * len(x))\n",
    "    return sorted(x)[p_index]\n",
    "    \n",
    "def interquartile_range(x):\n",
    "    return quantile(x, 0.75) - quantile(x, 0.25)\n",
    "print (\"quantile(num_friends, 0.25) =\", quantile(num_friends, 0.25))\n",
    "print (\"quantile(num_friends, 0.75) =\", quantile(num_friends, 0.75))\n",
    "print (\"interquartile_range(num_friends) =\", interquartile_range(num_friends))\n",
    "\n",
    " # 10"
   ]
  },
  {
   "cell_type": "code",
   "execution_count": null,
   "id": "b118b918-8285-475b-8619-04f26e337a37",
   "metadata": {},
   "outputs": [],
   "source": []
  }
 ],
 "metadata": {
  "kernelspec": {
   "display_name": "Python 3 (ipykernel)",
   "language": "python",
   "name": "python3"
  },
  "language_info": {
   "codemirror_mode": {
    "name": "ipython",
    "version": 3
   },
   "file_extension": ".py",
   "mimetype": "text/x-python",
   "name": "python",
   "nbconvert_exporter": "python",
   "pygments_lexer": "ipython3",
   "version": "3.11.6"
  }
 },
 "nbformat": 4,
 "nbformat_minor": 5
}
