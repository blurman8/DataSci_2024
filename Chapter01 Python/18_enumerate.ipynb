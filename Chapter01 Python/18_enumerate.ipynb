{
 "cells": [
  {
   "cell_type": "code",
   "execution_count": 15,
   "id": "daa307f6-2ec9-4ffb-a71d-f46fca89bbf9",
   "metadata": {},
   "outputs": [
    {
     "name": "stdout",
     "output_type": "stream",
     "text": [
      "0\n",
      "1\n",
      "2\n",
      "3\n"
     ]
    }
   ],
   "source": [
    "documents = [1, 2, 3, 4]\n",
    "# not Pythonic\n",
    "for i in range(len(documents)):\n",
    "    document = documents[i]\n",
    "    #do_something(i, document)\n",
    "# also not Pythonic\n",
    "i = 0\n",
    "for document in documents:\n",
    "    #do_something(i, document)\n",
    "    i += 1\n",
    " \n",
    "for i, document in enumerate(documents):\n",
    "    print (i)\n",
    "     \n",
    "\n",
    "\n"
   ]
  },
  {
   "cell_type": "code",
   "execution_count": null,
   "id": "6cc9e7e2-5ff0-4389-9f22-08c49dd6d89e",
   "metadata": {},
   "outputs": [],
   "source": [
    "print (\"------\")\n",
    "print (documents)\n",
    "print (len(documents))\n",
    "print (\"------not Pythonic------\")\n",
    "for i in range(len(documents)): print(i) # not Pythonic\n",
    "print (\"------  Pythonic  ------\")\n",
    "for i, _ in enumerate(documents): print(i) # Pythonic"
   ]
  }
 ],
 "metadata": {
  "kernelspec": {
   "display_name": "Python 3 (ipykernel)",
   "language": "python",
   "name": "python3"
  },
  "language_info": {
   "codemirror_mode": {
    "name": "ipython",
    "version": 3
   },
   "file_extension": ".py",
   "mimetype": "text/x-python",
   "name": "python",
   "nbconvert_exporter": "python",
   "pygments_lexer": "ipython3",
   "version": "3.12.6"
  }
 },
 "nbformat": 4,
 "nbformat_minor": 5
}
