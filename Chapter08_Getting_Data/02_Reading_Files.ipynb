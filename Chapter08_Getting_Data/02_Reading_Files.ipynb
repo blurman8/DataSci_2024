{
 "cells": [
  {
   "cell_type": "code",
   "execution_count": null,
   "id": "ece0d820-b7f4-447a-9de4-11071103e584",
   "metadata": {},
   "outputs": [],
   "source": [
    "# 'r' means read-only\n",
    "file_for_reading = open('reading_file.txt', 'r')\n",
    "\n",
    "# 'w' is write -- will destroy the file if it already exists!\n",
    "file_for_writing = open('writing_file.txt', 'w')\n",
    "\n",
    "# 'a' is append -- for adding to the end of the file\n",
    "file_for_appending = open('appending_file.txt', 'a')\n",
    "\n",
    "# don't forget to close your files when you're done\n",
    "file_for_writing.close()\n"
   ]
  },
  {
   "cell_type": "code",
   "execution_count": null,
   "id": "f9b2b8ba-597f-4108-994e-fea708873af0",
   "metadata": {},
   "outputs": [],
   "source": [
    "#Example open for reading file.\n",
    "with open(filename,'r') as f:\n",
    "    data = function_that_gets_data_from(f)\n",
    "    # at this point f has already been closed, so don't try to use it\n",
    "    process(data)\n"
   ]
  },
  {
   "cell_type": "code",
   "execution_count": null,
   "id": "7484e2cb-be41-4f2a-8832-7adee8953d5b",
   "metadata": {},
   "outputs": [],
   "source": [
    "\n",
    "starts_with_hash = 0\n",
    "with open('input.txt','r') as f:\n",
    "    for line in file: # look at each line in the file\n",
    "        if re.match(\"^#\",line): # use a regex to see if it starts with '#'\n",
    "            starts_with_hash += 1 # if it does, add 1 to the count\n"
   ]
  },
  {
   "cell_type": "code",
   "execution_count": null,
   "id": "9d4f7535-7cb2-4798-bada-3872f811dd4e",
   "metadata": {},
   "outputs": [],
   "source": [
    "def get_domain(email_address):\n",
    "    \"\"\"split on '@' and return the last piece\"\"\"\n",
    "    return email_address.lower().split(\"@\")[-1]\n",
    "\n",
    "with open('email_addresses.txt', 'r') as f:\n",
    "    domain_counts = Counter(get_domain(line.strip())\n",
    "                            for line in f\n",
    "                            if \"@\" in line)"
   ]
  },
  {
   "cell_type": "code",
   "execution_count": null,
   "id": "711677e1-f5f2-4ada-9d43-b1c3675561f0",
   "metadata": {},
   "outputs": [],
   "source": [
    "#example1.txt\n",
    "#6/20/2014  AAPL    90.91\n",
    "#6/20/2014  MSFT    41.68\n",
    "#6/20/2014  FB  64.5\n",
    "#6/19/2014  AAPL    91.86\n",
    "#6/19/2014  MSFT    41.51\n",
    "#6/19/2014  FB  64.34\n",
    "\n",
    "#read_tab.py\n",
    "import csv\n",
    "with open('tab_delimited_stock_prices.txt', 'rb') as f:\n",
    "    reader = csv.reader(f, delimiter='\\t')\n",
    "for row in reader:\n",
    "    date = row[0]\n",
    "    symbol = row[1]\n",
    "    closing_price = float(row[2])\n",
    "    #process(date, symbol, closing_price)"
   ]
  },
  {
   "cell_type": "code",
   "execution_count": null,
   "id": "f34e9086-6d2e-4fe4-a51b-618f1d42dec0",
   "metadata": {},
   "outputs": [],
   "source": [
    "#date:symbol:closing_price\n",
    "#6/20/2014:AAPL:90.91\n",
    "#6/20/2014:MSFT:41.68\n",
    "#6/20/2014:FB:64.5\n",
    "### readcolon.py\n",
    "with open('colon_delimited_stock_prices.txt', 'rb') as f:  \n",
    "    reader = csv.DictReader(f, delimiter=':')\n",
    "for row in reader:\n",
    "    date = row[\"date\"]\n",
    "    symbol = row[\"symbol\"]\n",
    "    closing_price = float(row[\"closing_price\"])\n",
    "process(date, symbol, closing_price)"
   ]
  },
  {
   "cell_type": "code",
   "execution_count": null,
   "id": "afee804c-72f0-4693-ae7c-ce71f4c50aef",
   "metadata": {},
   "outputs": [],
   "source": [
    "### writecomma.py\n",
    "today_prices = { 'AAPL' : 90.91, 'MSFT' : 41.68, 'FB' : 64.5 }\n",
    "with open('comma_delimited_stock_prices.txt','wb') as f:\n",
    "    writer = csv.writer(f, delimiter=',')\n",
    "for stock, price in today_prices.items():\n",
    "    writer.writerow([stock, price])"
   ]
  },
  {
   "cell_type": "code",
   "execution_count": null,
   "id": "af54f55e-5ed3-4903-941d-222ac03363fe",
   "metadata": {},
   "outputs": [],
   "source": [
    "### writeresult.py\n",
    "results =  [[\"test1\", \"success\", \"Monday\"],\n",
    "            [\"test2\", \"success, kind of\", \"Tuesday\"],\n",
    "            [\"test3\", \"failure, kind of\", \"Wednesday\"],\n",
    "            [\"test4\", \"failure, utter\", \"Thursday\"]]\n",
    "# don't do this!\n",
    "with open('bad_csv.txt', 'wb') as f:\n",
    "    for row in results:\n",
    "        f.write(\",\".join(map(str, row))) # might have too many commas in it!\n",
    "        f.write(\"\\n\") # row might have newlines as well!"
   ]
  }
 ],
 "metadata": {
  "kernelspec": {
   "display_name": "Python 3 (ipykernel)",
   "language": "python",
   "name": "python3"
  },
  "language_info": {
   "codemirror_mode": {
    "name": "ipython",
    "version": 3
   },
   "file_extension": ".py",
   "mimetype": "text/x-python",
   "name": "python",
   "nbconvert_exporter": "python",
   "pygments_lexer": "ipython3",
   "version": "3.12.6"
  }
 },
 "nbformat": 4,
 "nbformat_minor": 5
}
