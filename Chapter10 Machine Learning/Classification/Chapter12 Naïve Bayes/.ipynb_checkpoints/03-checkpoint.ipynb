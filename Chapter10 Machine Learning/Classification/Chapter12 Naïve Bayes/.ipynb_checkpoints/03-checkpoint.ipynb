{
 "cells": [
  {
   "cell_type": "code",
   "execution_count": 2,
   "id": "b4f855a1-3188-42c3-bdf8-4679b661a2e6",
   "metadata": {},
   "outputs": [],
   "source": [
    "from typing import Set\n",
    "import re\n",
    "def tokenize(text: str) -> Set[str]:\n",
    "    text = text.lower() # Convert to lowercase,\n",
    "    all_words = re.findall(\"[a-z0-9']+\", text) # extract the words, and\n",
    "    return set(all_words) # remove duplicates.\n",
    "assert tokenize(\"Data Science is science\") == {\"data\", \"science\", \"is\"}\n"
   ]
  },
  {
   "cell_type": "code",
   "execution_count": 3,
   "id": "8b4be0b0-aabc-4a03-8877-8c6fdf08019d",
   "metadata": {},
   "outputs": [],
   "source": [
    "from typing import NamedTuple\n",
    "class Message(NamedTuple):\n",
    "    text: str\n",
    "    is_spam: bool\n",
    "\n"
   ]
  },
  {
   "cell_type": "code",
   "execution_count": 5,
   "id": "454f8a2a-f63b-4a7d-b5cd-05f85988dac3",
   "metadata": {},
   "outputs": [],
   "source": [
    "from typing import List, Tuple, Dict, Iterable\n",
    "import math\n",
    "from collections import defaultdict\n",
    "class NaiveBayesClassifier:\n",
    "    def __init__(self, k: float = 0.5) -> None:\n",
    "        self.k = k # smoothing factor\n",
    "        self.tokens: Set[str] = set()\n",
    "        self.token_spam_counts: Dict[str, int] = defaultdict(int)\n",
    "        self.token_ham_counts: Dict[str, int] = defaultdict(int)\n",
    "        self.spam_messages = self.ham_messages = 0\n",
    "    def train(self, messages: Iterable[Message]) -> None:\n",
    "        for message in messages:\n",
    "            # Increment message counts\n",
    "            if message.is_spam:\n",
    "                self.spam_messages += 1\n",
    "            else:\n",
    "                self.ham_messages += 1\n",
    "            # Increment word counts\n",
    "            for token in tokenize(message.text):\n",
    "                self.tokens.add(token)\n",
    "                if message.is_spam:\n",
    "                    self.token_spam_counts[token] += 1\n",
    "                else:\n",
    "                    self.token_ham_counts[token] += 1\n",
    "\n",
    "    def _probabilities(self, token: str) -> Tuple[float, float]:\n",
    "        \"\"\"returns P(token | spam) and P(token | ham)\"\"\"\n",
    "        spam = self.token_spam_counts[token]\n",
    "        ham = self.token_ham_counts[token]\n",
    "        p_token_spam = (spam + self.k) / (self.spam_messages + 2 * self.k)\n",
    "        p_token_ham = (ham + self.k) / (self.ham_messages + 2 * self.k)\n",
    "        return p_token_spam, p_token_ham\n",
    "\n",
    "    def predict(self, text: str) -> float:\n",
    "        text_tokens = tokenize(text)\n",
    "        log_prob_if_spam = log_prob_if_ham = 0.0\n",
    "        # Iterate through each word in our vocabulary\n",
    "        for token in self.tokens:\n",
    "            prob_if_spam, prob_if_ham = self._probabilities(token)\n",
    "            # If *token* appears in the message,\n",
    "            # add the log probability of seeing it\n",
    "            if token in text_tokens:\n",
    "                log_prob_if_spam += math.log(prob_if_spam)\n",
    "                log_prob_if_ham += math.log(prob_if_ham)\n",
    "            # Otherwise add the log probability of _not_ seeing it,\n",
    "            # which is log(1 - probability of seeing it)\n",
    "            else:\n",
    "                log_prob_if_spam += math.log(1.0 - prob_if_spam)\n",
    "                log_prob_if_ham += math.log(1.0 - prob_if_ham)\n",
    "        prob_if_spam = math.exp(log_prob_if_spam)\n",
    "        prob_if_ham = math.exp(log_prob_if_ham)\n",
    "        return prob_if_spam / (prob_if_spam + prob_if_ham)"
   ]
  },
  {
   "cell_type": "code",
   "execution_count": 6,
   "id": "1bcfd5d6-0c86-43f9-8156-8683fce4a34d",
   "metadata": {},
   "outputs": [],
   "source": [
    "messages = [Message(\"spam rules\", is_spam=True),\n",
    "Message(\"ham rules\", is_spam=False),\n",
    "Message(\"hello ham\", is_spam=False)]\n",
    "model = NaiveBayesClassifier(k=0.5)\n",
    "model.train(messages)"
   ]
  },
  {
   "cell_type": "code",
   "execution_count": 8,
   "id": "9f254df9-2d27-403e-8ebb-16aab033465a",
   "metadata": {},
   "outputs": [
    {
     "name": "stdout",
     "output_type": "stream",
     "text": [
      "True\n",
      "True\n",
      "True\n",
      "True\n",
      "True\n"
     ]
    }
   ],
   "source": [
    "print (model.tokens == {\"spam\", \"ham\", \"rules\", \"hello\"})\n",
    "print (model.spam_messages == 1)\n",
    "print (model.ham_messages == 2)\n",
    "print (model.token_spam_counts == {\"spam\": 1, \"rules\": 1})\n",
    "print (model.token_ham_counts == {\"ham\": 2, \"rules\": 1, \"hello\": 1})"
   ]
  },
  {
   "cell_type": "code",
   "execution_count": 9,
   "id": "b7e5bb8b-e7df-4ac7-86fd-cc6eea5071c5",
   "metadata": {},
   "outputs": [],
   "source": [
    "text = \"hello spam\"\n",
    "probs_if_spam = [\n",
    "(1 + 0.5) / (1 + 2 * 0.5), # \"spam\" (present)\n",
    "1 - (0 + 0.5) / (1 + 2 * 0.5), # \"ham\" (not present)\n",
    "1 - (1 + 0.5) / (1 + 2 * 0.5), # \"rules\" (not present)\n",
    "(0 + 0.5) / (1 + 2 * 0.5) # \"hello\" (present)\n",
    "]"
   ]
  },
  {
   "cell_type": "code",
   "execution_count": 12,
   "id": "a0644e70-3953-4c69-8ce1-645d1cfaa641",
   "metadata": {},
   "outputs": [
    {
     "name": "stdout",
     "output_type": "stream",
     "text": [
      "True\n"
     ]
    }
   ],
   "source": [
    "probs_if_ham = [\n",
    "(0 + 0.5) / (2 + 2 * 0.5), # \"spam\" (present)\n",
    "1 - (2 + 0.5) / (2 + 2 * 0.5), # \"ham\" (not present)\n",
    "1 - (1 + 0.5) / (2 + 2 * 0.5), # \"rules\" (not present)\n",
    "(1 + 0.5) / (2 + 2 * 0.5), # \"hello\" (present)\n",
    "]\n",
    "p_if_spam = math.exp(sum(math.log(p) for p in probs_if_spam))\n",
    "p_if_ham = math.exp(sum(math.log(p) for p in probs_if_ham))\n",
    "# Should be about 0.83\n",
    "assert model.predict(text) == p_if_spam / (p_if_spam + p_if_ham)\n",
    "print ( model.predict(text) == p_if_spam / (p_if_spam + p_if_ham) )\n"
   ]
  },
  {
   "cell_type": "code",
   "execution_count": null,
   "id": "b6c6ce7b-ccfd-4440-a4b0-deec61004a01",
   "metadata": {},
   "outputs": [],
   "source": [
    "from io import BytesIO # So we can treat bytes as a file.\n",
    "import requests # To download the files, which\n",
    "import tarfile # are in .tar.bz format.\n",
    "BASE_URL = \"https://spamassassin.apache.org/old/publiccorpus\"\n",
    "FILES = [\"20021010_easy_ham.tar.bz2\",\n",
    "        \"20021010_hard_ham.tar.bz2\",\n",
    "        \"20021010_spam.tar.bz2\"]\n",
    "# This is where the data will end up,\n",
    "# in /spam, /easy_ham, and /hard_ham subdirectories.\n",
    "# Change this to where you want the data.\n",
    "OUTPUT_DIR = 'spam_data'\n",
    "for filename in FILES:\n",
    "    # Use requests to get the file contents at each URL.\n",
    "    content = requests.get(f\"{BASE_URL}/{filename}\").content\n",
    "    # Wrap the in-memory bytes so we can use them as a \"file.\"\n",
    "    fin = BytesIO(content)\n",
    "    # And extract all the files to the specified output dir.\n",
    "    with tarfile.open(fileobj=fin, mode='r:bz2') as tf:\n",
    "                         tf.extractall(OUTPUT_DIR)\n"
   ]
  }
 ],
 "metadata": {
  "kernelspec": {
   "display_name": "Python 3 (ipykernel)",
   "language": "python",
   "name": "python3"
  },
  "language_info": {
   "codemirror_mode": {
    "name": "ipython",
    "version": 3
   },
   "file_extension": ".py",
   "mimetype": "text/x-python",
   "name": "python",
   "nbconvert_exporter": "python",
   "pygments_lexer": "ipython3",
   "version": "3.12.6"
  }
 },
 "nbformat": 4,
 "nbformat_minor": 5
}
