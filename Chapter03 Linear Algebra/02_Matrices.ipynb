{
 "cells": [
  {
   "cell_type": "code",
   "execution_count": 14,
   "id": "0423897e-d25d-4d77-9d1b-53c6f22b9a1d",
   "metadata": {},
   "outputs": [
    {
     "name": "stdout",
     "output_type": "stream",
     "text": [
      "matrix A\n",
      "rows    2\n",
      "cols    3\n",
      "matrix B\n",
      "rows    3\n",
      "cols    2\n"
     ]
    }
   ],
   "source": [
    "A = [[1, 2, 3], # A has 2 rows and 3 columns\n",
    "    [4, 5, 6]]\n",
    "B = [[1, 2], # B has 3 rows and 2 columns\n",
    "    [3, 4],\n",
    "    [5, 6]]\n",
    "\n",
    "\n",
    "def shape(A):\n",
    "    num_rows = len(A)\n",
    "    num_cols = len(A[0]) if A else 0 # number of elements in first row\n",
    "    return num_rows, num_cols\n",
    "\n",
    "\n",
    "print (\"matrix A\")\n",
    "rows, cols = shape(A) \n",
    "print (\"rows   \", rows)\n",
    "print (\"cols   \", cols)\n",
    "print (\"matrix B\")\n",
    "rows, cols = shape(B) \n",
    "print (\"rows   \", rows)\n",
    "print (\"cols   \", cols)"
   ]
  },
  {
   "cell_type": "code",
   "execution_count": 17,
   "id": "70a11afe-2c53-43da-a82c-7a7399298c14",
   "metadata": {},
   "outputs": [
    {
     "name": "stdout",
     "output_type": "stream",
     "text": [
      "matrix A get row[0]\n",
      "rows    [1, 2, 3]\n",
      "matrix A get row[1]\n",
      "rows    [4, 5, 6]\n"
     ]
    }
   ],
   "source": [
    "def get_row(A, i):\n",
    "    return A[i] # A[i] is already the ith row\n",
    "\n",
    "def get_column(A, j):\n",
    "    return [A_i[j] # jth element of row A_i\n",
    "            for A_i in A] # for each row A_i\n",
    "rowsA = get_row(A,0) \n",
    "print (\"matrix A get row[0]\")\n",
    "print (\"rows   \", rowsA) \n",
    "rowsA = get_row(A,1) \n",
    "print (\"matrix A get row[1]\")\n",
    "print (\"rows   \", rowsA) \n"
   ]
  },
  {
   "cell_type": "code",
   "execution_count": 20,
   "id": "527ae97b-1f6a-4ac1-b1a1-5e3e58880f24",
   "metadata": {},
   "outputs": [
    {
     "name": "stdout",
     "output_type": "stream",
     "text": [
      "[[1, 0, 0, 0, 0], [0, 1, 0, 0, 0], [0, 0, 1, 0, 0], [0, 0, 0, 1, 0], [0, 0, 0, 0, 1]]\n"
     ]
    }
   ],
   "source": [
    "def make_matrix(num_rows, num_cols, entry_fn):\n",
    "    \"\"\"returns a num_rows x num_cols matrix\n",
    "    whose (i,j)th entry is entry_fn(i, j)\"\"\"\n",
    "    return [[entry_fn(i, j) # given i, create a list\n",
    "            for j in range(num_cols)] # [entry_fn(i, 0), ... ]\n",
    "            for i in range(num_rows)] # create one list for each i\n",
    "    \n",
    "def is_diagonal(i, j):\n",
    "    \"\"\"1's on the 'diagonal', 0's everywhere else\"\"\"\n",
    "    return 1 if i == j else 0\n",
    "identity_matrix = make_matrix(5, 5, is_diagonal)\n",
    "\n",
    "print(identity_matrix)"
   ]
  },
  {
   "cell_type": "code",
   "execution_count": 24,
   "id": "ff38a70c-f6be-4aca-a683-51f67e0841a1",
   "metadata": {},
   "outputs": [
    {
     "name": "stdout",
     "output_type": "stream",
     "text": [
      "friendships[0][2]  True\n",
      "friendships[0][8]  False\n",
      "friends_of_five\n",
      "[4, 6, 7]\n"
     ]
    }
   ],
   "source": [
    "data = [[70, 170, 40],\n",
    "        [65, 120, 26],\n",
    "        [77, 250, 19],\n",
    "        ]\n",
    "friendships = [(0, 1), (0, 2), (1, 2), (1, 3), (2, 3), (3, 4),\n",
    "               (4, 5), (5, 6), (5, 7), (6, 8), (7, 8), (8, 9)]\n",
    "# user 0 1 2 3 4 5 6 7 8 9\n",
    "#\n",
    "friendships = [[0, 1, 1, 0, 0, 0, 0, 0, 0, 0], # user 0\n",
    "                [1, 0, 1, 1, 0, 0, 0, 0, 0, 0], # user 1\n",
    "                [1, 1, 0, 1, 0, 0, 0, 0, 0, 0], # user 2\n",
    "                [0, 1, 1, 0, 1, 0, 0, 0, 0, 0], # user 3\n",
    "                [0, 0, 0, 1, 0, 1, 0, 0, 0, 0], # user 4\n",
    "                [0, 0, 0, 0, 1, 0, 1, 1, 0, 0], # user 5\n",
    "                [0, 0, 0, 0, 0, 1, 0, 0, 1, 0], # user 6\n",
    "                [0, 0, 0, 0, 0, 1, 0, 0, 1, 0], # user 7\n",
    "                [0, 0, 0, 0, 0, 0, 1, 1, 0, 1], # user 8\n",
    "                [0, 0, 0, 0, 0, 0, 0, 0, 1, 0]] # user 9 \n",
    "\n",
    "friendships[0][2] == 1 # True, 0 and 2 are friends\n",
    "print ( \"friendships[0][2] \", friendships[0][2]==1 )\n",
    "friendships[0][8] == 1 # False, 0 and 8 are not friends\n",
    "print ( \"friendships[0][8] \", friendships[0][8]==1 )\n",
    "\n",
    "friends_of_five = [i # only need\n",
    "                    for i, is_friend in enumerate(friendships[5]) # to look at\n",
    "                    if is_friend] # one row\n",
    "print ( \"friends_of_five\" )\n",
    "print (friends_of_five)\n",
    "# 0  1  2  3  4  5  6  7  8  9\n",
    "#[0, 0, 0, 1, 0, 1, 0, 0, 0, 0], # user 4\n",
    "#[0, 0, 0, 0, 0, 1, 0, 0, 1, 0], # user 6\n",
    "#[0, 0, 0, 0, 0, 1, 0, 0, 1, 0], # user 7\n"
   ]
  },
  {
   "cell_type": "code",
   "execution_count": null,
   "id": "8d1a6c41-9c21-41be-b3c1-41f7eb729b0f",
   "metadata": {},
   "outputs": [],
   "source": [
    "\n"
   ]
  }
 ],
 "metadata": {
  "kernelspec": {
   "display_name": "Python 3 (ipykernel)",
   "language": "python",
   "name": "python3"
  },
  "language_info": {
   "codemirror_mode": {
    "name": "ipython",
    "version": 3
   },
   "file_extension": ".py",
   "mimetype": "text/x-python",
   "name": "python",
   "nbconvert_exporter": "python",
   "pygments_lexer": "ipython3",
   "version": "3.11.6"
  }
 },
 "nbformat": 4,
 "nbformat_minor": 5
}
