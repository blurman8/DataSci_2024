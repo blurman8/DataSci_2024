{
 "cells": [
  {
   "cell_type": "code",
   "execution_count": 1,
   "id": "045ac14e-51a2-4460-baf5-3d6d3bf502f4",
   "metadata": {},
   "outputs": [],
   "source": [
    "# egrep.py\n",
    "import sys, re\n",
    "# sys.argv is the list of command-line arguments\n",
    "# sys.argv[0] is the name of the program itself\n",
    "# sys.argv[1] will be the regex specified at the command line\n",
    "regex = sys.argv[1]\n",
    "# for every line passed into the script\n",
    "for line in sys.stdin:\n",
    "    # if it matches the regex, write it to stdout\n",
    "    if re.search(regex, line):\n",
    "        sys.stdout.write(line)"
   ]
  },
  {
   "cell_type": "code",
   "execution_count": null,
   "id": "2a8edf51-581c-44c9-a4c6-a2021eeb472f",
   "metadata": {},
   "outputs": [],
   "source": [
    "# line_count.py\n",
    "import sys\n",
    "count = 0\n",
    "for line in sys.stdin:\n",
    "    count += 1\n",
    "# print goes to sys.stdout\n",
    "print (count)\n",
    "\n",
    "#>type SomeFile.txt | python egrep.py \"[0-9]\" | python line_count.py\n",
    " \n",
    "#>cat SomeFile.txt | python egrep.py \"[0-9]\" | python line_count.py"
   ]
  },
  {
   "cell_type": "code",
   "execution_count": null,
   "id": "52e15eab-ff84-4de2-87e0-eba411a3d0ae",
   "metadata": {},
   "outputs": [],
   "source": [
    "# most_common_words.py\n",
    "import sys\n",
    "from collections import Counter\n",
    "# pass in number of words as first argument\n",
    "try:\n",
    "    num_words = int(sys.argv[1])\n",
    "except:\n",
    "    print (\"usage: most_common_words.py num_words\")\n",
    "    sys.exit(1) # non-zero exit code indicates error\n",
    "    \n",
    "counter = Counter(word.lower() # lowercase words\n",
    "                for line in sys.stdin #\n",
    "                for word in line.strip().split() # split on spaces\n",
    "                if word) # skip empty 'words'\n",
    "for word, count in counter.most_common(num_words):\n",
    "    sys.stdout.write(str(count))\n",
    "    sys.stdout.write(\"\\t\")\n",
    "    sys.stdout.write(word)\n",
    "    sys.stdout.write(\"\\n\")\n",
    "\n",
    "#>type the_bible.txt | python most_common_words.py 10"
   ]
  },
  {
   "cell_type": "code",
   "execution_count": null,
   "id": "caba8231-9dac-4603-bb4e-c1e8553687ce",
   "metadata": {},
   "outputs": [],
   "source": []
  }
 ],
 "metadata": {
  "kernelspec": {
   "display_name": "Python 3 (ipykernel)",
   "language": "python",
   "name": "python3"
  },
  "language_info": {
   "codemirror_mode": {
    "name": "ipython",
    "version": 3
   },
   "file_extension": ".py",
   "mimetype": "text/x-python",
   "name": "python",
   "nbconvert_exporter": "python",
   "pygments_lexer": "ipython3",
   "version": "3.12.6"
  }
 },
 "nbformat": 4,
 "nbformat_minor": 5
}
