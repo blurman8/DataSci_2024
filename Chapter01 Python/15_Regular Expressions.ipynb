{
 "cells": [
  {
   "cell_type": "code",
   "execution_count": 1,
   "id": "be8762d6-d764-4e8e-b965-0390af1ef97f",
   "metadata": {},
   "outputs": [
    {
     "name": "stdout",
     "output_type": "stream",
     "text": [
      "True\n"
     ]
    }
   ],
   "source": [
    "import re\n",
    "print (all([ # all of these are true, because\n",
    "        not re.match(\"a\", \"cat\"), # * 'cat' doesn't start with 'a'\n",
    "        re.search(\"a\", \"cat\"), # * 'cat' has an 'a' in it\n",
    "        not re.search(\"c\", \"dog\"), # * 'dog' doesn't have a 'c' in it\n",
    "        3 == len(re.split(\"[ab]\", \"carbs\")), # * split on a or b to ['c','r','s']\n",
    "        \"R-D-\" == re.sub(\"[0-9]\", \"-\", \"R2D2\") # * replace digits with dashes\n",
    "        ]) ) # prints True"
   ]
  },
  {
   "cell_type": "code",
   "execution_count": null,
   "id": "a86fbfb3-77a4-487d-84ce-fa795a12939b",
   "metadata": {},
   "outputs": [],
   "source": []
  }
 ],
 "metadata": {
  "kernelspec": {
   "display_name": "Python 3 (ipykernel)",
   "language": "python",
   "name": "python3"
  },
  "language_info": {
   "codemirror_mode": {
    "name": "ipython",
    "version": 3
   },
   "file_extension": ".py",
   "mimetype": "text/x-python",
   "name": "python",
   "nbconvert_exporter": "python",
   "pygments_lexer": "ipython3",
   "version": "3.12.6"
  }
 },
 "nbformat": 4,
 "nbformat_minor": 5
}
