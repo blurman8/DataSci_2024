{
 "cells": [
  {
   "cell_type": "code",
   "execution_count": 20,
   "id": "30b656de-ec6a-4658-a4c2-3f9a074aa406",
   "metadata": {},
   "outputs": [
    {
     "name": "stdout",
     "output_type": "stream",
     "text": [
      "grades {'Joel': 80, 'Tim': 95}\n"
     ]
    }
   ],
   "source": [
    "empty_dict = {} # Pythonic\n",
    "empty_dict2 = dict() # less Pythonic\n",
    "grades = { \"Joel\" : 80, \"Tim\" : 95 } # dictionary literal\n",
    "print (\"grades\",grades)"
   ]
  },
  {
   "cell_type": "code",
   "execution_count": 21,
   "id": "adb2c8f9-5e20-4174-84d0-b1f96e84dce4",
   "metadata": {},
   "outputs": [
    {
     "name": "stdout",
     "output_type": "stream",
     "text": [
      "joels_grade 80\n",
      "no grade for Kate!\n"
     ]
    }
   ],
   "source": [
    "joels_grade = grades[\"Joel\"] # equals 80\n",
    "print (\"joels_grade\",joels_grade)\n",
    "try :\n",
    "    kates_grade = grades[\"Kate\"]\n",
    "except KeyError :\n",
    "    print (\"no grade for Kate!\") "
   ]
  },
  {
   "cell_type": "code",
   "execution_count": 22,
   "id": "23a2e50b-20c5-4d55-925b-0767a5d2413d",
   "metadata": {},
   "outputs": [
    {
     "name": "stdout",
     "output_type": "stream",
     "text": [
      "joel_has_grade True\n",
      "kate_has_grade False\n"
     ]
    }
   ],
   "source": [
    "joel_has_grade = \"Joel\" in grades # True\n",
    "kate_has_grade = \"Kate\" in grades # False\n",
    "print ( \"joel_has_grade\", joel_has_grade )\n",
    "print ( \"kate_has_grade\", kate_has_grade )"
   ]
  },
  {
   "cell_type": "code",
   "execution_count": 23,
   "id": "1e970749-97ad-4032-a5db-6f64023bc1d7",
   "metadata": {},
   "outputs": [
    {
     "name": "stdout",
     "output_type": "stream",
     "text": [
      "joels_grade 80\n",
      "kates_grade 0\n",
      "no_ones_grade None\n"
     ]
    }
   ],
   "source": [
    "joels_grade = grades.get(\"Joel\", 0) # equals 80\n",
    "kates_grade = grades.get(\"Kate\", 0) # equals 0\n",
    "no_ones_grade = grades.get(\"No One\") # default default is None\n",
    "print ( \"joels_grade\", joels_grade )\n",
    "print ( \"kates_grade\", kates_grade )\n",
    "print ( \"no_ones_grade\", no_ones_grade )\n"
   ]
  },
  {
   "cell_type": "code",
   "execution_count": 24,
   "id": "0b66ad60-5433-4c54-90aa-5a97c6fe7610",
   "metadata": {},
   "outputs": [
    {
     "name": "stdout",
     "output_type": "stream",
     "text": [
      "num_students 3\n"
     ]
    }
   ],
   "source": [
    "grades[\"Tim\"] = 99 # replaces the old value\n",
    "grades[\"Kate\"] = 100 # adds a third entry\n",
    "num_students = len(grades) # equals 3\n",
    "print ( \"num_students\", num_students )"
   ]
  },
  {
   "cell_type": "code",
   "execution_count": 26,
   "id": "cf32a6df-0990-4d01-8e4c-f4a9f4ed4376",
   "metadata": {},
   "outputs": [
    {
     "name": "stdout",
     "output_type": "stream",
     "text": [
      "'user' in tweet_keys True\n",
      "'user' in tweet True\n",
      "'joelgrus' in tweet_values True\n"
     ]
    }
   ],
   "source": [
    "tweet = {\n",
    "    \"user\" : \"joelgrus\",\n",
    "    \"text\" : \"Data Science is Awesome\",\n",
    "    \"retweet_count\" : 100,\n",
    "    \"hashtags\" : [\"#data\", \"#science\", \"#datascience\", \"#awesome\", \"#yolo\"]\n",
    "}\n",
    "tweet_keys = tweet.keys() # list of keys\n",
    "tweet_values = tweet.values() # list of values\n",
    "tweet_items = tweet.items() # list of (key, value) tuples\n",
    "\n",
    "\"user\" in tweet_keys # True, but uses a slow list in\n",
    "print(\"'user' in tweet_keys\", \"user\" in tweet_keys)\n",
    "\n",
    "\"user\" in tweet # more Pythonic, uses faster dict in\n",
    "print(\"'user' in tweet\",\"user\" in tweet)\n",
    "\n",
    "\"joelgrus\" in tweet_values # True\n",
    "print(\"'joelgrus' in tweet_values\",\"joelgrus\" in tweet_values)\n"
   ]
  },
  {
   "cell_type": "code",
   "execution_count": 18,
   "id": "9af58b8a-12bd-463d-91f5-607724d2a245",
   "metadata": {},
   "outputs": [
    {
     "name": "stdout",
     "output_type": "stream",
     "text": [
      "hello\n",
      "apple\n",
      "grapes\n",
      "{'hello': 1, 'apple': 1, 'grapes': 1}\n"
     ]
    }
   ],
   "source": [
    "document = {\"hello\":1, \"apple\":2 ,\"hello\":8, \"hello\":6, \"apple\":7, \"grapes\":5 }\n",
    "word_counts = { }\n",
    "for word in document:\n",
    "    print(word)\n",
    "    if word in word_counts:\n",
    "        word_counts[word] += 1\n",
    "    else:\n",
    "        word_counts[word] = 1\n",
    "print(word_counts)"
   ]
  },
  {
   "cell_type": "code",
   "execution_count": null,
   "id": "335848b3-5cb9-4893-b392-aade6eb3c828",
   "metadata": {},
   "outputs": [],
   "source": []
  }
 ],
 "metadata": {
  "kernelspec": {
   "display_name": "Python 3 (ipykernel)",
   "language": "python",
   "name": "python3"
  },
  "language_info": {
   "codemirror_mode": {
    "name": "ipython",
    "version": 3
   },
   "file_extension": ".py",
   "mimetype": "text/x-python",
   "name": "python",
   "nbconvert_exporter": "python",
   "pygments_lexer": "ipython3",
   "version": "3.12.6"
  }
 },
 "nbformat": 4,
 "nbformat_minor": 5
}
