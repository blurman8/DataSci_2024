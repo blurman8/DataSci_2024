{
 "cells": [
  {
   "cell_type": "code",
   "execution_count": 25,
   "id": "1f94794c-b319-45a2-970a-af367fb24739",
   "metadata": {},
   "outputs": [
    {
     "name": "stdout",
     "output_type": "stream",
     "text": [
      "181\n",
      "mean  = 11.696132596685082\n"
     ]
    }
   ],
   "source": [
    "num_friends = [100, 49, 41, 40, 25,\n",
    "               3, 4, 5, 6, 7, 8, 8, 8, 1, 3, 4, 5, 6, 7, 9, 9, 9, 1,\n",
    "               3, 4, 5, 6, 7, 10, 10, 10, 3, 4, 5, 6, 7, 8, 8, 8, 1,\n",
    "               3, 4, 5, 6, 7, 8, 8, 8, 2, 3, 4, 5, 6, 7, 9, 9, 9, 2,\n",
    "               3, 4, 5, 6, 7, 10, 10, 10, 3, 4, 5, 6, 7, 10, 10, 10,\n",
    "               3, 4, 5, 6, 7, 10, 10, 10, 3, 4, 5, 6, 7, 10, 10, 10,\n",
    "               3, 4, 5, 6, 7, 10, 10, 10, 3, 4, 5, 6, 7, 10, 10, 10,\n",
    "               3, 4, 5, 6, 7, 8, 8, 8, 1, 3, 4, 5, 6, 7, 9, 9, 9, 1,\n",
    "               13, 14, 15, 16, 17, 18, 18, 18, 18,\n",
    "               13, 14, 15, 16, 17, 18, 18, 18, 45,\n",
    "               13, 14, 15, 16, 17, 19, 19, 19, 46,\n",
    "               13, 14, 15, 16, 17, 18, 18, 18, 47,\n",
    "               13, 14, 15, 16, 17, 19, 19, 19, 49,\n",
    "               13, 14, 15, 16, 17, 10, 10, 10,\n",
    "               49, 41, 40, 25 ]\n",
    "# this isn't right if you don't from __future__ import division\n",
    " \n",
    "\n",
    "def mean(x):\n",
    "    return sum(x) / len(x)\n",
    "mean(num_friends) # 11.696132596685082\n",
    "print (\"mean  =\", mean(num_friends))\n"
   ]
  },
  {
   "cell_type": "code",
   "execution_count": 21,
   "id": "ce0bb5cd-1122-4cdf-a879-c739ff14331b",
   "metadata": {},
   "outputs": [
    {
     "name": "stdout",
     "output_type": "stream",
     "text": [
      "median  = 9\n"
     ]
    }
   ],
   "source": [
    "def median(v):\n",
    "    \"\"\"finds the 'middle-most' value of v\"\"\"\n",
    "    n = len(v)\n",
    "    sorted_v = sorted(v)\n",
    "    midpoint = n // 2\n",
    "    if n % 2 == 1:\n",
    "        # if odd, return the middle value\n",
    "        return sorted_v[midpoint]\n",
    "    else:\n",
    "        # if even, return the average of the middle values\n",
    "        lo = midpoint - 1\n",
    "        hi = midpoint\n",
    "        return (sorted_v[lo] + sorted_v[hi]) / 2\n",
    "\n",
    "median(num_friends) # 6.0\n",
    "\n",
    "print (\"median  =\", median(num_friends))\n",
    "\n"
   ]
  },
  {
   "cell_type": "code",
   "execution_count": 22,
   "id": "baa09d5b-e9bd-4040-b701-7be1f5967527",
   "metadata": {},
   "outputs": [
    {
     "name": "stdout",
     "output_type": "stream",
     "text": [
      "quantile(num_friends, 0.10) = 3\n",
      "quantile(num_friends, 0.25) = 5\n",
      "quantile(num_friends, 0.75) = 15\n",
      "quantile(num_friends, 0.90) = 19\n"
     ]
    }
   ],
   "source": [
    "def quantile(x, p):\n",
    "    \"\"\"returns the pth-percentile value in x\"\"\"\n",
    "    p_index = int(p * len(x))\n",
    "    return sorted(x)[p_index]\n",
    "\n",
    "quantile(num_friends, 0.10) # 1\n",
    "quantile(num_friends, 0.25) # 3\n",
    "quantile(num_friends, 0.75) # 9\n",
    "quantile(num_friends, 0.90) # 13\n",
    "\n",
    "print (\"quantile(num_friends, 0.10) =\", quantile(num_friends, 0.10))\n",
    "print (\"quantile(num_friends, 0.25) =\", quantile(num_friends, 0.25))\n",
    "print (\"quantile(num_friends, 0.75) =\", quantile(num_friends, 0.75))\n",
    "print (\"quantile(num_friends, 0.90) =\", quantile(num_friends, 0.90))\n"
   ]
  },
  {
   "cell_type": "code",
   "execution_count": 23,
   "id": "10425786-6fdd-4e49-8e7d-5d6d5b85f1c7",
   "metadata": {},
   "outputs": [
    {
     "name": "stdout",
     "output_type": "stream",
     "text": [
      "mode(num_friends)  =  [10]\n"
     ]
    }
   ],
   "source": [
    "from collections import Counter\n",
    "def mode(x):\n",
    "    \"\"\"returns a list, might be more than one mode\"\"\"\n",
    "    counts = Counter(x)\n",
    "    max_count = max(counts.values())\n",
    "    return [x_i for x_i, count in counts.items()\n",
    "            if count == max_count]\n",
    "            \n",
    "mode(num_friends) # 10\n",
    "print (\"mode(num_friends)  = \",mode(num_friends))"
   ]
  }
 ],
 "metadata": {
  "kernelspec": {
   "display_name": "Python 3 (ipykernel)",
   "language": "python",
   "name": "python3"
  },
  "language_info": {
   "codemirror_mode": {
    "name": "ipython",
    "version": 3
   },
   "file_extension": ".py",
   "mimetype": "text/x-python",
   "name": "python",
   "nbconvert_exporter": "python",
   "pygments_lexer": "ipython3",
   "version": "3.12.6"
  }
 },
 "nbformat": 4,
 "nbformat_minor": 5
}
