{
 "cells": [
  {
   "cell_type": "code",
   "execution_count": 2,
   "id": "193b86b3-a1da-4b70-a865-82885c1a2783",
   "metadata": {},
   "outputs": [
    {
     "name": "stdout",
     "output_type": "stream",
     "text": [
      "g(3)      8\n",
      "g(-1)     0\n"
     ]
    }
   ],
   "source": [
    "def doubler(f):\n",
    "    def g(x):\n",
    "        return 2 * f(x)\n",
    "    return g\n",
    "\n",
    "def f1(x):\n",
    "    return x + 1\n",
    "\n",
    "g = doubler(f1)\n",
    "print (\"g(3)     \",g(3)) # 8 (== ( 3 + 1) * 2)\n",
    "print (\"g(-1)    \",g(-1)) # 0 (== (-1 + 1) * 2)"
   ]
  },
  {
   "cell_type": "code",
   "execution_count": 5,
   "id": "ee5fbc4f-4d4e-4258-863f-83342aaaa9e7",
   "metadata": {},
   "outputs": [
    {
     "name": "stdout",
     "output_type": "stream",
     "text": [
      "TypeError\n"
     ]
    }
   ],
   "source": [
    "def f2(x, y):\n",
    "    return x + y\n",
    "\n",
    "g = doubler(f2)\n",
    "try : \n",
    "    print (g(1, 2)) # TypeError: g() takes exactly 1 argument (2 given)\n",
    "except : \n",
    "    print (\"TypeError\")"
   ]
  },
  {
   "cell_type": "code",
   "execution_count": 6,
   "id": "4c4e9112-c716-4dd1-bac8-cbf898e562bc",
   "metadata": {},
   "outputs": [
    {
     "name": "stdout",
     "output_type": "stream",
     "text": [
      "unnamed args:   (1, 2)\n",
      "keyword args:   {'key': 'word', 'key2': 'word2'}\n"
     ]
    }
   ],
   "source": [
    "def magic(*args, **kwargs):\n",
    "    print (\"unnamed args:  \", args)\n",
    "    print (\"keyword args:  \", kwargs)\n",
    "magic(1, 2, key=\"word\", key2=\"word2\")\n",
    "# prints\n",
    "# unnamed args: (1, 2)\n",
    "# keyword args: {'key2': 'word2', 'key': 'word'}\n"
   ]
  },
  {
   "cell_type": "code",
   "execution_count": 8,
   "id": "6e249580-2986-4bc7-a01a-8d519cfae3ae",
   "metadata": {},
   "outputs": [
    {
     "name": "stdout",
     "output_type": "stream",
     "text": [
      "other_way_magic(*x_y_list, **z_dict)    6\n"
     ]
    }
   ],
   "source": [
    "def other_way_magic(x, y, z):\n",
    "    return x + y + z\n",
    "x_y_list = [1, 2]\n",
    "z_dict = { \"z\" : 3 }\n",
    "print (\"other_way_magic(*x_y_list, **z_dict)   \",other_way_magic(*x_y_list, **z_dict)) # 6\n"
   ]
  },
  {
   "cell_type": "code",
   "execution_count": 9,
   "id": "e7999425-c37b-43c0-913c-6180fcedad94",
   "metadata": {},
   "outputs": [
    {
     "name": "stdout",
     "output_type": "stream",
     "text": [
      "g(1, 2)      6\n"
     ]
    }
   ],
   "source": [
    "def doubler_correct(f):\n",
    "    \"\"\"works no matter what kind of inputs f expects\"\"\"\n",
    "    def g(*args, **kwargs):\n",
    "        \"\"\"whatever arguments g is supplied, pass them through to f\"\"\"\n",
    "        return 2 * f(*args, **kwargs)\n",
    "    return g\n",
    "g = doubler_correct(f2)\n",
    "print (\"g(1, 2)     \", g(1, 2)) # 6\n"
   ]
  },
  {
   "cell_type": "code",
   "execution_count": null,
   "id": "af3c591e-9bcc-4eac-bfb1-7eecd55a1a59",
   "metadata": {},
   "outputs": [],
   "source": []
  }
 ],
 "metadata": {
  "kernelspec": {
   "display_name": "Python 3 (ipykernel)",
   "language": "python",
   "name": "python3"
  },
  "language_info": {
   "codemirror_mode": {
    "name": "ipython",
    "version": 3
   },
   "file_extension": ".py",
   "mimetype": "text/x-python",
   "name": "python",
   "nbconvert_exporter": "python",
   "pygments_lexer": "ipython3",
   "version": "3.12.6"
  }
 },
 "nbformat": 4,
 "nbformat_minor": 5
}
